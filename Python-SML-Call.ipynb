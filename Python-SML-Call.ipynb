{
 "cells": [
  {
   "cell_type": "code",
   "execution_count": 1,
   "metadata": {},
   "outputs": [
    {
     "name": "stdout",
     "output_type": "stream",
     "text": [
      "328350\n"
     ]
    }
   ],
   "source": [
    "import subprocess\n",
    "\n",
    "def sml_sum_squares(lo, hi):\n",
    "    # Call the SML executable with lo and hi as arguments\n",
    "    result = subprocess.run(\n",
    "        ['./py-sml-test', str(lo), str(hi)],\n",
    "        stdout=subprocess.PIPE,\n",
    "        stderr=subprocess.PIPE,\n",
    "        text=True,\n",
    "        cwd='.'  # Make sure this is the directory where py-sml-test is located\n",
    "    )\n",
    "    if result.returncode != 0:\n",
    "        print(\"Error:\", result.stderr)\n",
    "        return None\n",
    "    return int(result.stdout.strip())\n",
    "\n",
    "# Example usage:\n",
    "print(sml_sum_squares(0, 4))  # Should print the sum of squares from 0 to 99"
   ]
  }
 ],
 "metadata": {
  "kernelspec": {
   "display_name": ".venv",
   "language": "python",
   "name": "python3"
  },
  "language_info": {
   "codemirror_mode": {
    "name": "ipython",
    "version": 3
   },
   "file_extension": ".py",
   "mimetype": "text/x-python",
   "name": "python",
   "nbconvert_exporter": "python",
   "pygments_lexer": "ipython3",
   "version": "3.12.7"
  }
 },
 "nbformat": 4,
 "nbformat_minor": 2
}
