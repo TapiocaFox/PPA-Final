{
 "cells": [
  {
   "cell_type": "code",
   "execution_count": 2,
   "metadata": {
    "scrolled": true
   },
   "outputs": [],
   "source": [
    "import numpy as np\n",
    "import igl\n",
    "import meshplot as mp\n",
    "import os\n",
    "from sklearn.decomposition import PCA\n",
    "    \n",
    "\n",
    "from IPython.display import display, HTML, IFrame\n",
    "mp.jupyter()"
   ]
  },
  {
   "cell_type": "code",
   "execution_count": 3,
   "metadata": {
    "scrolled": true
   },
   "outputs": [],
   "source": [
    "# Utility function to generate a tet grid\n",
    "# n is a 3-tuple with the number of cell in every direction\n",
    "# mmin/mmax are the grid bounding box corners\n",
    "\n",
    "def tet_grid(n, mmin, mmax):\n",
    "    nx = n[0]\n",
    "    ny = n[1]\n",
    "    nz = n[2]\n",
    "    \n",
    "    delta = mmax-mmin\n",
    "    \n",
    "    deltax = delta[0]/(nx-1)\n",
    "    deltay = delta[1]/(ny-1)\n",
    "    deltaz = delta[2]/(nz-1)\n",
    "    \n",
    "    T = np.zeros(((nx-1)*(ny-1)*(nz-1)*6, 4), dtype=np.int64)\n",
    "    V = np.zeros((nx*ny*nz, 3))\n",
    "\n",
    "    mapping = -np.ones((nx, ny, nz), dtype=np.int64)\n",
    "\n",
    "\n",
    "    index = 0\n",
    "    for i in range(nx):\n",
    "        for j in range(ny):\n",
    "            for k in range(nz):\n",
    "                mapping[i, j, k] = index\n",
    "                V[index, :] = [i*deltax, j*deltay, k*deltaz]\n",
    "                index += 1\n",
    "    assert(index == V.shape[0])\n",
    "    \n",
    "    tets = np.array([\n",
    "        [0,1,3,4],\n",
    "        [5,2,6,7],\n",
    "        [4,1,5,3],\n",
    "        [4,3,7,5],\n",
    "        [3,1,5,2],\n",
    "        [2,3,7,5]\n",
    "    ])\n",
    "    \n",
    "    index = 0\n",
    "    for i in range(nx-1):\n",
    "        for j in range(ny-1):\n",
    "            for k in range(nz-1):\n",
    "                indices = [\n",
    "                    (i,   j,   k),\n",
    "                    (i+1, j,   k),\n",
    "                    (i+1, j+1, k),\n",
    "                    (i,   j+1, k),\n",
    "\n",
    "                    (i,   j,   k+1),\n",
    "                    (i+1, j,   k+1),\n",
    "                    (i+1, j+1, k+1),\n",
    "                    (i,   j+1, k+1),\n",
    "                ]\n",
    "                \n",
    "                for t in range(tets.shape[0]):\n",
    "                    tmp = [mapping[indices[ii]] for ii in tets[t, :]]\n",
    "                    T[index, :]=tmp\n",
    "                    index += 1\n",
    "                    \n",
    "    assert(index == T.shape[0])\n",
    "    \n",
    "    V += mmin\n",
    "    return V, T"
   ]
  },
  {
   "cell_type": "markdown",
   "metadata": {},
   "source": [
    "# Reading point cloud"
   ]
  },
  {
   "cell_type": "code",
   "execution_count": 4,
   "metadata": {
    "scrolled": true
   },
   "outputs": [
    {
     "data": {
      "application/vnd.jupyter.widget-view+json": {
       "model_id": "5c3102d2948c4e95b3120dc6e229118b",
       "version_major": 2,
       "version_minor": 0
      },
      "text/plain": [
       "Renderer(camera=PerspectiveCamera(children=(DirectionalLight(color='white', intensity=0.6, position=(5.0, -23.…"
      ]
     },
     "metadata": {},
     "output_type": "display_data"
    },
    {
     "name": "stdout",
     "output_type": "stream",
     "text": [
      "Plot saved to file ./plots/0.html.\n"
     ]
    },
    {
     "data": {
      "text/html": [
       "\n",
       "        <iframe\n",
       "            width=\"700\"\n",
       "            height=\"600\"\n",
       "            src=\"./plots/0.html\"\n",
       "            frameborder=\"0\"\n",
       "            allowfullscreen\n",
       "            \n",
       "        ></iframe>\n",
       "        "
      ],
      "text/plain": [
       "<IPython.lib.display.IFrame at 0x7fbc727da000>"
      ]
     },
     "metadata": {},
     "output_type": "display_data"
    },
    {
     "name": "stdout",
     "output_type": "stream",
     "text": [
      "[[  0.    0.    0. ]\n",
      " [ -0.1  -6.    1. ]\n",
      " [ -4.4  -3.4  -1. ]\n",
      " ...\n",
      " [ 26.4 -37.2 -96.2]\n",
      " [ 26.2 -44.4 -96.1]\n",
      " [ 24.8 -50.2 -96.4]]\n"
     ]
    }
   ],
   "source": [
    "def read_mesh_as_point_cloud(filename, shrink_ratio=1):\n",
    "    p, v = igl.read_triangle_mesh(filename)\n",
    "    p /= shrink_ratio\n",
    "    n = igl.per_vertex_normals(p, v)\n",
    "    return p, n\n",
    "\n",
    "plot_count = 0\n",
    "def save_and_display_plot(p):\n",
    "    global plot_count\n",
    "    if not os.path.exists(\"plots\"):\n",
    "        os.makedirs(\"plots\")\n",
    "    filename = \"./plots/\"+str(plot_count)+\".html\"\n",
    "    p.save(filename)\n",
    "    display(IFrame(src=filename, width=700, height=600))\n",
    "    plot_count += 1\n",
    "    # html = p.to_html(imports=True, html_frame=True)\n",
    "    # display(HTML(html))\n",
    "    \n",
    "pi, ni = read_mesh_as_point_cloud(\"data/cat.off\", 10)\n",
    "p = mp.plot(pi, shading={\"point_size\": 8})\n",
    "save_and_display_plot(p)\n",
    "print(pi)"
   ]
  },
  {
   "cell_type": "markdown",
   "metadata": {},
   "source": [
    "# MLS function"
   ]
  },
  {
   "cell_type": "code",
   "execution_count": 5,
   "metadata": {
    "scrolled": true
   },
   "outputs": [],
   "source": [
    "# Parameters\n",
    "bbox_min = np.array([-1., -1., -1.])\n",
    "bbox_max = np.array([1., 1., 1.])\n",
    "bbox_diag = np.linalg.norm(bbox_max - bbox_min)\n",
    "\n",
    "n = 20"
   ]
  },
  {
   "cell_type": "code",
   "execution_count": 6,
   "metadata": {
    "scrolled": true
   },
   "outputs": [],
   "source": [
    "# Generate grid n x n x n\n",
    "\n",
    "x, T = tet_grid((n, n, n), bbox_min - 0.05 * bbox_diag, bbox_max + 0.05 * bbox_diag)\n",
    "\n",
    "#Compute implicit sphere function\n",
    "center = np.array([0., 0., 0.])\n",
    "radius = 1\n",
    "fx = np.linalg.norm(x-center, axis=1) - radius\n"
   ]
  },
  {
   "cell_type": "code",
   "execution_count": 7,
   "metadata": {
    "scrolled": true
   },
   "outputs": [
    {
     "data": {
      "application/vnd.jupyter.widget-view+json": {
       "model_id": "8903bedad5434dbfb1867883ec87052f",
       "version_major": 2,
       "version_minor": 0
      },
      "text/plain": [
       "Renderer(camera=PerspectiveCamera(children=(DirectionalLight(color='white', intensity=0.6, position=(0.0, 0.0,…"
      ]
     },
     "metadata": {},
     "output_type": "display_data"
    },
    {
     "name": "stdout",
     "output_type": "stream",
     "text": [
      "Plot saved to file ./plots/1.html.\n"
     ]
    },
    {
     "data": {
      "text/html": [
       "\n",
       "        <iframe\n",
       "            width=\"700\"\n",
       "            height=\"600\"\n",
       "            src=\"./plots/1.html\"\n",
       "            frameborder=\"0\"\n",
       "            allowfullscreen\n",
       "            \n",
       "        ></iframe>\n",
       "        "
      ],
      "text/plain": [
       "<IPython.lib.display.IFrame at 0x7fbc702b1310>"
      ]
     },
     "metadata": {},
     "output_type": "display_data"
    }
   ],
   "source": [
    "# Treshold fx to visualize inside outside\n",
    "# print(fx.shape, x.shape)\n",
    "ind = np.zeros_like(fx)\n",
    "ind[fx >= 0] = 1\n",
    "ind[fx < 0] = -1\n",
    "p = mp.plot(x, c=ind, shading={\"point_size\": 0.1,\"width\": 800, \"height\": 800})\n",
    "save_and_display_plot(p)"
   ]
  },
  {
   "cell_type": "code",
   "execution_count": 8,
   "metadata": {
    "jp-MarkdownHeadingCollapsed": true
   },
   "outputs": [],
   "source": [
    "# Marching to extract surface"
   ]
  },
  {
   "cell_type": "code",
   "execution_count": 9,
   "metadata": {
    "scrolled": true
   },
   "outputs": [
    {
     "data": {
      "application/vnd.jupyter.widget-view+json": {
       "model_id": "0586f7c4b70c4eaa917828fdacd73d01",
       "version_major": 2,
       "version_minor": 0
      },
      "text/plain": [
       "Renderer(camera=PerspectiveCamera(children=(DirectionalLight(color='white', intensity=0.6, position=(0.0, 0.0,…"
      ]
     },
     "metadata": {},
     "output_type": "display_data"
    }
   ],
   "source": [
    "# Marcing tet to extract surface\n",
    "# print(T)\n",
    "sv, sf, _, _ = igl.marching_tets(x, T, fx, 0)\n",
    "p = mp.plot(sv, sf, shading={\"wireframe\": True})"
   ]
  },
  {
   "cell_type": "markdown",
   "metadata": {
    "scrolled": true
   },
   "source": [
    "# Setting up the Constraints"
   ]
  },
  {
   "cell_type": "code",
   "execution_count": null,
   "metadata": {
    "jp-MarkdownHeadingCollapsed": true,
    "scrolled": true
   },
   "outputs": [
    {
     "data": {
      "application/vnd.jupyter.widget-view+json": {
       "model_id": "24566fc4f77b429d9563e61d889d8fc0",
       "version_major": 2,
       "version_minor": 0
      },
      "text/plain": [
       "Renderer(camera=PerspectiveCamera(children=(DirectionalLight(color='white', intensity=0.6, position=(5.0120944…"
      ]
     },
     "metadata": {},
     "output_type": "display_data"
    },
    {
     "name": "stdout",
     "output_type": "stream",
     "text": [
      "Plot saved to file ./plots/2.html.\n"
     ]
    },
    {
     "data": {
      "text/html": [
       "\n",
       "        <iframe\n",
       "            width=\"700\"\n",
       "            height=\"600\"\n",
       "            src=\"./plots/2.html\"\n",
       "            frameborder=\"0\"\n",
       "            allowfullscreen\n",
       "            \n",
       "        ></iframe>\n",
       "        "
      ],
      "text/plain": [
       "<IPython.lib.display.IFrame at 0x7fbc7087f080>"
      ]
     },
     "metadata": {},
     "output_type": "display_data"
    }
   ],
   "source": [
    "# find_closest_point\n",
    "def find_closest_point(point, points):\n",
    "    norms = np.linalg.norm(points-point, axis=1)\n",
    "    closest_point_index = np.argmin(norms)\n",
    "    # closest_point_index = np.argmin(norms)\n",
    "    return points[closest_point_index], norms[closest_point_index]\n",
    "\n",
    "def calc_bounding_box(points):\n",
    "    largest = np.amax(points, axis=0)\n",
    "    smallest = np.amin(points, axis=0)\n",
    "    # print(smallest, largest)\n",
    "    return smallest, largest\n",
    "\n",
    "def calc_constraint_for_point(point, normal, eps, norm):\n",
    "    pi_constraint = [0, 0, 0]\n",
    "    pi_constraint[0] = point[0]+eps*normal[0]\n",
    "    pi_constraint[1] = point[1]+eps*normal[1]\n",
    "    pi_constraint[2] = point[2]+eps*normal[2]\n",
    "    counter = 0\n",
    "    # print(np.linalg.norm(pi_constraint-np.array(point)))\n",
    "    while np.linalg.norm(pi_constraint-np.array(point))>norm:\n",
    "        counter += 1\n",
    "        pi_constraint[0] = point[0]+pow(0.5, counter)*eps*normal[0]\n",
    "        pi_constraint[1] = point[1]+pow(0.5, counter)*eps*normal[1]\n",
    "        pi_constraint[2] = point[2]+pow(0.5, counter)*eps*normal[2]\n",
    "    return pi_constraint, pow(0.5, counter)\n",
    "\n",
    "# Setting up the \n",
    "\n",
    "def get_points_constraints(points, normals, find_closest_point_func=None, spatial_indexing=None, eps_ratio=0.01):\n",
    "    normals = normals/np.linalg.norm(normals, axis=1).reshape(-1, 1)\n",
    "    # print(np.linalg.norm(normals, axis=0))\n",
    "    smallest_diagonal, largest_diagonal = calc_bounding_box(pi)\n",
    "    eps = eps_ratio * np.linalg.norm(np.array(largest_diagonal)-np.array(smallest_diagonal))\n",
    "    points_list = points.tolist()\n",
    "    normals_list = normals.tolist()\n",
    "    points_plus_list = []\n",
    "    points_minus_list = []\n",
    "    points_plus_eps_coeff_list = []\n",
    "    points_minus_eps_coeff_list = []\n",
    "    for i in range(len(points_list)):\n",
    "        p = points_list[i]\n",
    "        n = normals_list[i]\n",
    "        points_without_p = np.delete(points, [i], axis=0)\n",
    "        if spatial_indexing==None:\n",
    "            _, closest_norm = find_closest_point_func(p, points_without_p)\n",
    "        else:\n",
    "            _, closest_norm = spatial_indexing.find_closest_point(p, excluded_indices=[i])\n",
    "        p_plus, p_plus_eps_coeff = calc_constraint_for_point(p, n, eps, closest_norm)\n",
    "        p_minus, p_minus_eps_coeff = calc_constraint_for_point(p, n, -eps, closest_norm)\n",
    "        points_plus_list.append(p_plus)\n",
    "        points_minus_list.append(p_minus)\n",
    "        points_plus_eps_coeff_list.append(p_plus_eps_coeff)\n",
    "        points_minus_eps_coeff_list.append(p_minus_eps_coeff)\n",
    "        \n",
    "    points_plus = np.array(points_plus_list)\n",
    "    points_minus = np.array(points_minus_list)\n",
    "    points_plus_eps_coeff = np.array(points_plus_eps_coeff_list)\n",
    "    points_minus_eps_coeff = np.array(points_minus_eps_coeff_list)\n",
    "    points_count = points.shape[0]\n",
    "    # Constraints\n",
    "    constraints = np.concatenate((points, points_plus, points_minus))\n",
    "    # Target Values\n",
    "    targets = np.zeros(constraints.shape[0])\n",
    "    targets[:points_count] = 0 # B, Surface\n",
    "    # print(points_plus_eps_coeff)\n",
    "    # print(points_minus_eps_coeff)\n",
    "    targets[points_count:2*points_count] = eps*points_plus_eps_coeff # R, Outside\n",
    "    targets[2*points_count:] = -eps*points_minus_eps_coeff # G, Inside\n",
    "\n",
    "    return constraints, targets\n",
    "def plot_constraints(constraints, targets, point_size=8):\n",
    "    color = np.zeros(constraints.shape)\n",
    "    color[targets>0, 0] = 1 # R, Outside\n",
    "    color[targets<0, 1] = 1 # G, Inside\n",
    "    color[targets==0, 2] = 1 # B, Surface\n",
    "    p = mp.plot(constraints, c=color, shading={\"point_size\": point_size})\n",
    "    save_and_display_plot(p)\n",
    "    \n",
    "c, d = get_points_constraints(pi, ni, find_closest_point)\n",
    "plot_constraints(c, d)"
   ]
  },
  {
   "cell_type": "markdown",
   "metadata": {},
   "source": [
    "# Use MLS interpolation to extend to function `f`"
   ]
  },
  {
   "cell_type": "markdown",
   "metadata": {},
   "source": [
    "## Create a grid sampling the 3D space"
   ]
  },
  {
   "cell_type": "code",
   "execution_count": 11,
   "metadata": {},
   "outputs": [
    {
     "name": "stdout",
     "output_type": "stream",
     "text": [
      "Final grid size: [18 25 30] , Unit size:  4.063125090291515 , Diagonal size: 174.71437888253516\n"
     ]
    }
   ],
   "source": [
    "def create_sampling_grid(points, resolution, bbox_increase_ratio=0.05):\n",
    "    bbox_min, bbox_max = calc_bounding_box(points)\n",
    "    \n",
    "    # Enlarge it a bit.\n",
    "    bbox_diag = np.linalg.norm(bbox_max - bbox_min)\n",
    "    bbox_min, bbox_max = bbox_min - bbox_increase_ratio * bbox_diag, bbox_max + bbox_increase_ratio * bbox_diag\n",
    "    \n",
    "    # Calculate resolution for each axis.\n",
    "    bbox_size = bbox_max-bbox_min\n",
    "    largest_size = np.amax(bbox_size)\n",
    "    unit_size = largest_size/resolution\n",
    "    grid_size = (np.ceil(bbox_size/unit_size)).astype(int)\n",
    "    grid_size[grid_size>resolution]=resolution\n",
    "    bbox_mid = (bbox_max+bbox_min)/2\n",
    "    bbox_min = bbox_mid-unit_size*grid_size/2\n",
    "    bbox_max = bbox_mid+unit_size*grid_size/2\n",
    "    bbox_diag = np.linalg.norm(bbox_max - bbox_min)\n",
    "\n",
    "\n",
    "    x, T = tet_grid(grid_size, bbox_min, bbox_max)\n",
    "    return x, T, (grid_size, unit_size, bbox_diag)\n",
    "    \n",
    "x, T, info = create_sampling_grid(c, resolution=30)\n",
    "# Print analytics\n",
    "print(\"Final grid size:\", info[0], \", Unit size: \", info[1], \", Diagonal size:\", info[2])"
   ]
  },
  {
   "cell_type": "markdown",
   "metadata": {},
   "source": [
    "## Utilities functions"
   ]
  },
  {
   "cell_type": "code",
   "execution_count": 12,
   "metadata": {},
   "outputs": [
    {
     "name": "stdout",
     "output_type": "stream",
     "text": [
      "calc_3d_polynomial_each_term:\n",
      "[  1.       3.6     12.96     2.5      9.      32.4      6.25    22.5\n",
      "  81.       1.4      5.04    18.144    3.5     12.6     45.36     8.75\n",
      "  31.5    113.4      1.96     7.056   25.4016   4.9     17.64    63.504\n",
      "  12.25    44.1    158.76  ]\n",
      "[1.00000000e+00 6.30000000e+00 3.96900000e+01 5.20000000e+00\n",
      " 3.27600000e+01 2.06388000e+02 2.70400000e+01 1.70352000e+02\n",
      " 1.07321760e+03 4.10000000e+00 2.58300000e+01 1.62729000e+02\n",
      " 2.13200000e+01 1.34316000e+02 8.46190800e+02 1.10864000e+02\n",
      " 6.98443200e+02 4.40019216e+03 1.68100000e+01 1.05903000e+02\n",
      " 6.67188900e+02 8.74120000e+01 5.50695600e+02 3.46938228e+03\n",
      " 4.54542400e+02 2.86361712e+03 1.80407879e+04]\n",
      "calc_3d_polynomial_each_term (stacked):\n",
      "[[1.00000000e+00 3.60000000e+00 1.29600000e+01 2.50000000e+00\n",
      "  9.00000000e+00 3.24000000e+01 6.25000000e+00 2.25000000e+01\n",
      "  8.10000000e+01 1.40000000e+00 5.04000000e+00 1.81440000e+01\n",
      "  3.50000000e+00 1.26000000e+01 4.53600000e+01 8.75000000e+00\n",
      "  3.15000000e+01 1.13400000e+02 1.96000000e+00 7.05600000e+00\n",
      "  2.54016000e+01 4.90000000e+00 1.76400000e+01 6.35040000e+01\n",
      "  1.22500000e+01 4.41000000e+01 1.58760000e+02]\n",
      " [1.00000000e+00 6.30000000e+00 3.96900000e+01 5.20000000e+00\n",
      "  3.27600000e+01 2.06388000e+02 2.70400000e+01 1.70352000e+02\n",
      "  1.07321760e+03 4.10000000e+00 2.58300000e+01 1.62729000e+02\n",
      "  2.13200000e+01 1.34316000e+02 8.46190800e+02 1.10864000e+02\n",
      "  6.98443200e+02 4.40019216e+03 1.68100000e+01 1.05903000e+02\n",
      "  6.67188900e+02 8.74120000e+01 5.50695600e+02 3.46938228e+03\n",
      "  4.54542400e+02 2.86361712e+03 1.80407879e+04]]\n"
     ]
    }
   ],
   "source": [
    "# def calc_3d_polynomial_each_brutal(v, polyDegree):\n",
    "#     x, y, z = v[0], v[1], v[2]\n",
    "#     result = []\n",
    "#     # print(result)\n",
    "#     for x_degree in range(polyDegree+1):\n",
    "#         for y_degree in range(polyDegree+1):\n",
    "#             for z_degree in range(polyDegree+1):\n",
    "#                 term = (x ** x_degree) * (y ** y_degree) * (z ** z_degree)\n",
    "#                 result.append(term)\n",
    "#     return np.array(result)\n",
    "\n",
    "def calc_3d_polynomial_each_term(v, polyDegree):\n",
    "    x, y, z = v[0], v[1], v[2]\n",
    "    result = np.ones((polyDegree+1, polyDegree+1, polyDegree+1))\n",
    "    # print(result)\n",
    "    for x_degree in range(1, polyDegree+1):\n",
    "        result[x_degree:, :, :] *= x\n",
    "        \n",
    "    for y_degree in range(1, polyDegree+1):\n",
    "        result[:, y_degree:, :] *= y\n",
    "        \n",
    "    for z_degree in range(1, polyDegree+1):\n",
    "        result[:, :, z_degree:] *= z\n",
    "    return result.flatten()\n",
    "\n",
    "def calc_3d_polynomial_each_term_stacked(v, polyDegree):\n",
    "    is_stacked = len(v.shape)==2\n",
    "    if not is_stacked:\n",
    "        v = v.reshape((1, 3))\n",
    "    result = np.ones((v.shape[0], polyDegree+1, polyDegree+1, polyDegree+1))\n",
    "    # print(result)\n",
    "    for x_degree in range(1, polyDegree+1):\n",
    "        m = result[:, x_degree:, :, :]\n",
    "        result[:, x_degree:, :, :] = (m.reshape((v.shape[0], -1))*v[:, 0, np.newaxis]).reshape(m.shape)\n",
    "        \n",
    "    for y_degree in range(1, polyDegree+1):\n",
    "        m = result[:, :, y_degree:, :]\n",
    "        result[:, :, y_degree:, :] = (m.reshape((v.shape[0], -1))*v[:, 1, np.newaxis]).reshape(m.shape)\n",
    "        \n",
    "    for z_degree in range(1, polyDegree+1):\n",
    "        m = result[:, :, :, z_degree:]\n",
    "        result[:, :, :, z_degree:] = (m.reshape((v.shape[0], -1))*v[:, 2, np.newaxis]).reshape(m.shape)\n",
    "    if is_stacked:\n",
    "        return result.reshape((v.shape[0], -1))\n",
    "    else:\n",
    "        return result.flatten()\n",
    "\n",
    "# v = np.array([1., 2., 3.])\n",
    "# print(calc_3d_polynomial_each_term(v, 2))\n",
    "# print(calc_3d_polynomial_each_brutal(v, 2))\n",
    "\n",
    "# v = np.array([[1.4, 2.5, 3.6], [4.1, 5.2, 6.3] , [7., 8., 9.] , [10., 11., 12.]])\n",
    "v = np.array([[1.4, 2.5, 3.6], [4.1, 5.2, 6.3]])\n",
    "\n",
    "print(\"calc_3d_polynomial_each_term:\")\n",
    "print(calc_3d_polynomial_each_term(v[0, :], 2))\n",
    "print(calc_3d_polynomial_each_term(v[1, :], 2))\n",
    "print(\"calc_3d_polynomial_each_term (stacked):\")\n",
    "print(calc_3d_polynomial_each_term_stacked(v, 2))\n",
    "# print(calc_3d_polynomial_each_term_stacked(v[0, :], 2))"
   ]
  },
  {
   "cell_type": "markdown",
   "metadata": {},
   "source": [
    "## MLS Interpolation"
   ]
  },
  {
   "cell_type": "code",
   "execution_count": 13,
   "metadata": {
    "scrolled": true
   },
   "outputs": [
    {
     "name": "stdout",
     "output_type": "stream",
     "text": [
      "Fx gird:\n"
     ]
    },
    {
     "data": {
      "application/vnd.jupyter.widget-view+json": {
       "model_id": "71472d5277a84c39ae10d7b055cb1c0c",
       "version_major": 2,
       "version_minor": 0
      },
      "text/plain": [
       "Renderer(camera=PerspectiveCamera(children=(DirectionalLight(color='white', intensity=0.6, position=(5.0120944…"
      ]
     },
     "metadata": {},
     "output_type": "display_data"
    },
    {
     "name": "stdout",
     "output_type": "stream",
     "text": [
      "Plot saved to file ./plots/3.html.\n"
     ]
    },
    {
     "data": {
      "text/html": [
       "\n",
       "        <iframe\n",
       "            width=\"700\"\n",
       "            height=\"600\"\n",
       "            src=\"./plots/3.html\"\n",
       "            frameborder=\"0\"\n",
       "            allowfullscreen\n",
       "            \n",
       "        ></iframe>\n",
       "        "
      ],
      "text/plain": [
       "<IPython.lib.display.IFrame at 0x7fbc73780b60>"
      ]
     },
     "metadata": {},
     "output_type": "display_data"
    },
    {
     "name": "stdout",
     "output_type": "stream",
     "text": [
      "Marcing Tets:\n"
     ]
    },
    {
     "data": {
      "application/vnd.jupyter.widget-view+json": {
       "model_id": "078c23d470484cb4b01c38268d9cc326",
       "version_major": 2,
       "version_minor": 0
      },
      "text/plain": [
       "Renderer(camera=PerspectiveCamera(children=(DirectionalLight(color='white', intensity=0.6, position=(5.0120944…"
      ]
     },
     "metadata": {},
     "output_type": "display_data"
    },
    {
     "name": "stdout",
     "output_type": "stream",
     "text": [
      "Plot saved to file ./plots/4.html.\n"
     ]
    },
    {
     "data": {
      "text/html": [
       "\n",
       "        <iframe\n",
       "            width=\"700\"\n",
       "            height=\"600\"\n",
       "            src=\"./plots/4.html\"\n",
       "            frameborder=\"0\"\n",
       "            allowfullscreen\n",
       "            \n",
       "        ></iframe>\n",
       "        "
      ],
      "text/plain": [
       "<IPython.lib.display.IFrame at 0x7fbc6fe97f50>"
      ]
     },
     "metadata": {},
     "output_type": "display_data"
    },
    {
     "name": "stdout",
     "output_type": "stream",
     "text": [
      "Debug Plottings:\n"
     ]
    },
    {
     "data": {
      "application/vnd.jupyter.widget-view+json": {
       "model_id": "e0c800048c25439ba6fb9c69eb70d6b7",
       "version_major": 2,
       "version_minor": 0
      },
      "text/plain": [
       "Renderer(camera=PerspectiveCamera(children=(DirectionalLight(color='white', intensity=0.6, position=(5.0120944…"
      ]
     },
     "metadata": {},
     "output_type": "display_data"
    },
    {
     "data": {
      "application/vnd.jupyter.widget-view+json": {
       "model_id": "a9fc0d77116f4366bc6a5b8c6cc686fc",
       "version_major": 2,
       "version_minor": 0
      },
      "text/plain": [
       "Renderer(camera=PerspectiveCamera(children=(DirectionalLight(color='white', intensity=0.6, position=(5.0120944…"
      ]
     },
     "metadata": {},
     "output_type": "display_data"
    }
   ],
   "source": [
    "class WendlandMLSWithContraints:\n",
    "    def __init__(self, constraints, targets, poly_func=None, find_neighbors_func=None, spatial_indexing=None):\n",
    "        self.constraints = constraints\n",
    "        self.targets = targets\n",
    "        self.find_neighbors_func = find_neighbors_func\n",
    "        self.spatial_indexing = spatial_indexing\n",
    "        self.poly_func = poly_func\n",
    "        self.LARGE_VALUE = 9999\n",
    "\n",
    "    def wendland(self, r, h):\n",
    "        return pow((1-r/h), 4)*((4*r/h)+1)\n",
    "        \n",
    "    def interpolate_points_values(self, x, poly_degree, wendland_radius):\n",
    "        constraints, targets, find_neighbors_func, spatial_indexing, poly_func\\\n",
    "            = self.constraints, self.targets, self.find_neighbors_func, self.spatial_indexing, self.poly_func\n",
    "        wendland, LARGE_VALUE = self.wendland, self.LARGE_VALUE\n",
    "        # print(constraints)\n",
    "        coef_num = pow(polyDegree+1, 3)\n",
    "        points_within_wendland_radius = np.zeros(x.shape[0], dtype=bool)\n",
    "        fx = np.zeros(x.shape[0])\n",
    "        for i in range(x.shape[0]):\n",
    "            xi = x[i, :]\n",
    "            if spatial_indexing==None:\n",
    "                neighbors_indices, neighbors_norms = find_neighbors_func(xi, constraints, wendland_radius)\n",
    "            else:\n",
    "                neighbors_indices, neighbors_norms = spatial_indexing.find_neighbors(xi, wendland_radius)\n",
    "                \n",
    "            if neighbors_indices.shape[0]<2*coef_num:\n",
    "                points_within_wendland_radius[i] = False\n",
    "                fx[i] = LARGE_VALUE\n",
    "            else:\n",
    "                points_within_wendland_radius[i] = True\n",
    "                bx = np.zeros((neighbors_indices.shape[0], coef_num))\n",
    "                # d_target = np.zeros(neighbors_indices.shape[0])\n",
    "                d_target = targets[neighbors_indices]\n",
    "                # weight = np.zeros(neighbors_indices.shape[0])\n",
    "                weight = wendland(neighbors_norms, wendland_radius)\n",
    "                bx = poly_func(constraints[neighbors_indices], poly_degree)\n",
    "                \n",
    "                # for j in range(neighbors_indices.shape[0]):\n",
    "                    # neighbor_point_index = neighbors_indices[j]\n",
    "                    # neighbor_point_norm = neighbors_norms[j]\n",
    "                    # ci = constraints[neighbor_point_index]\n",
    "                    # weight[j] = wendland(neighbor_point_norm, wendland_radius)\n",
    "                    # d_target[j] = targets[neighbor_point_index]\n",
    "                    # Calculate polynomial's terms\n",
    "                    # bci = poly_func(ci, poly_degree)\n",
    "                    # bx[j, :] = bci\n",
    "                    \n",
    "                # print(i, bx, d_target, weight)\n",
    "                bx_weighted = bx*np.sqrt(weight[:,np.newaxis])\n",
    "                d_target_weighted = d_target*np.sqrt(weight)\n",
    "                \n",
    "                # bx_weighted = bx\n",
    "                # d_target_weighted = d_target\n",
    "                ax, _, _, _ = np.linalg.lstsq(bx_weighted, d_target_weighted, rcond=None)\n",
    "                fxi = np.dot(poly_func(xi, poly_degree), ax)\n",
    "                # ax, _, _, _ = np.linalg.lstsq(bx, d_target, rcond=None)\n",
    "                # fxi = np.dot(poly_func(xi, poly_degree), ax)\n",
    "                fx[i] = fxi\n",
    "                # ax2, _, _, _ = np.linalg.lstsq(bx, d_target, rcond=None)\n",
    "                # fxi2 = np.dot(poly_func(xi, poly_degree), ax2)\n",
    "                # print(fxi, fxi2, fxi2-fxi)\n",
    "        return fx, points_within_wendland_radius\n",
    "\n",
    "\n",
    "\n",
    "# closest_points\n",
    "def find_closest_points(point, points, h):\n",
    "    norms = np.linalg.norm(points-point, axis=1)\n",
    "    closest_points_indices = np.argwhere(norms<h)\n",
    "    closest_points_indices = closest_points_indices.reshape(closest_points_indices.shape[0])\n",
    "    return closest_points_indices, norms[closest_points_indices]\n",
    "\n",
    "def plot_fx(x, fx):\n",
    "    # Plotting\n",
    "    ind = np.zeros_like(x)\n",
    "    ind[fx >= 0, 0] = 1 # Outside, Red\n",
    "    ind[fx < 0, 1] = 1 # Inside, Green\n",
    "    # print(ind)\n",
    "    p = mp.plot(x, c=ind, shading={\"point_size\": 3,\"width\": 800, \"height\": 800})\n",
    "    save_and_display_plot(p)\n",
    "\n",
    "wendlandRadius = 30\n",
    "polyDegree = 2\n",
    "\n",
    "mlsWithContraints = WendlandMLSWithContraints(c, d, calc_3d_polynomial_each_term_stacked, find_closest_points)\n",
    "fx, in_wend = mlsWithContraints.interpolate_points_values(x, polyDegree, wendlandRadius)\n",
    "\n",
    "# Plotting\n",
    "print(\"Fx gird:\")\n",
    "plot_fx(x, fx)\n",
    "\n",
    "# Marcing tet to extract surface\n",
    "print(\"Marcing Tets:\")\n",
    "sv, sf, _, _ = igl.marching_tets(x, T, fx, 0)\n",
    "p = mp.plot(sv, sf, shading={\"wireframe\": True})\n",
    "save_and_display_plot(p)\n",
    "\n",
    "# print(\"Marcing Filtered:\")\n",
    "# p = mp.plot(sv, get_main_component(sf), shading={\"wireframe\": True})\n",
    "\n",
    "# Debug plotting\n",
    "print(\"Debug Plottings:\")\n",
    "ind = np.zeros_like(x)\n",
    "ind[(in_wend==True) & (fx > 0), 0] = 1 # In wendlandRadius, counted outnside, Red\n",
    "ind[(in_wend==True) & (fx <= 0), 1] = 1 # In wendlandRadius, counted inside, Green\n",
    "ind[(in_wend==False) & (fx <= 0), 2] = 1 # Outside wendlandRadius, but counted inside, Blue\n",
    "p = mp.plot(x, c=ind, shading={\"point_size\": 3,\"width\": 800, \"height\": 800})\n",
    "\n",
    "fx_in_wend = np.zeros(x.shape[0])\n",
    "fx_in_wend[in_wend] = -1\n",
    "fx_in_wend[in_wend==False] = 1\n",
    "# Marcing tet to extract surface\n",
    "sv, sf, _, _ = igl.marching_tets(x, T, fx_in_wend, 0)\n",
    "p = mp.plot(sv, sf, shading={\"wireframe\": True})\n"
   ]
  },
  {
   "cell_type": "markdown",
   "metadata": {},
   "source": [
    "\n",
    "\n",
    "\n",
    "\n",
    "\n",
    "\n",
    "\n",
    "\n",
    "\n",
    "\n",
    "\n",
    "\n",
    "\n",
    "\n",
    "\n",
    "\n",
    "\n",
    "\n",
    "\n",
    "\n",
    "\n",
    "\n",
    "\n",
    "\n",
    "\n",
    "\n",
    "\n",
    "\n",
    "\n",
    "\n",
    "\n",
    "\n",
    "\n",
    "\n",
    "\n",
    "\n",
    "\n",
    "\n",
    "\n",
    "\n",
    "\n",
    "\n",
    "\n",
    "\n",
    "\n",
    "\n",
    "\n",
    "\n",
    "\n",
    "\n",
    "\n",
    "\n",
    "\n",
    "\n",
    "\n",
    "\n",
    "\n",
    "\n",
    "\n",
    "\n",
    "\n",
    "\n",
    "\n",
    "\n",
    "\n",
    "\n",
    "\n",
    "\n",
    "\n",
    "\n",
    "\n",
    "\n",
    "\n",
    "\n",
    "\n",
    "\n",
    "\n",
    "\n",
    "\n",
    "\n",
    "\n",
    "\n",
    "\n",
    "\n",
    "\n",
    "\n",
    "\n",
    "\n",
    "\n",
    "\n",
    "\n",
    "\n",
    "\n",
    "\n",
    "\n",
    "\n",
    "\n",
    "\n",
    "\n",
    "\n",
    "\n",
    "\n",
    "\n",
    "\n",
    "\n",
    "\n",
    "\n",
    "\n",
    "\n",
    "\n",
    "\n",
    "\n",
    "# Implementing a spatial index to accelerate neighbor calculations"
   ]
  },
  {
   "cell_type": "code",
   "execution_count": 14,
   "metadata": {},
   "outputs": [],
   "source": [
    "class SpatialIndexing:\n",
    "    def __init__(self, points, resolution):\n",
    "        bbox_min, bbox_max = calc_bounding_box(points)\n",
    "        # print(bbox_min, bbox_max)\n",
    "        # Calculate resolution for each axis.\n",
    "        bbox_size = bbox_max-bbox_min\n",
    "        largest_size = np.amax(bbox_size)\n",
    "        unit_size = largest_size/resolution\n",
    "        grid_size = (np.ceil(bbox_size/unit_size)).astype(int)\n",
    "\n",
    "        self.grid_size = grid_size\n",
    "        self.bbox_min = bbox_min\n",
    "        self.bbox_max = bbox_max\n",
    "        self.box_size = bbox_max-bbox_min\n",
    "        self.unit_box_size = self.box_size/grid_size\n",
    "        \n",
    "        # print(grid_size, self.saved_spatial_indices.shape)\n",
    "        # self.saved_spatial_indices = [[] for i in range(grid_size[0]*grid_size[1]*grid_size[2])]\n",
    "        self._save_points(points)\n",
    "        \n",
    "    def calc_spatial_index_3d(self, p):\n",
    "        x_size, y_size, z_size = self.grid_size\n",
    "        p_in_box = p-self.bbox_min\n",
    "        index = np.minimum(np.floor(p_in_box/self.unit_box_size), self.grid_size-1)\n",
    "        if index[0]>=x_size:\n",
    "            index[0]=x_size-1\n",
    "        if index[1]>=y_size:\n",
    "            index[1]=y_size-1\n",
    "        if index[2]>=z_size:\n",
    "            index[2]=z_size-1\n",
    "        # print(self.grid_size, index)\n",
    "        return index.astype(int)\n",
    "    \n",
    "    # def calc_spatial_index_1d(self, p):\n",
    "    #     return self.convert_index_3d_to_1d(self.calc_spatial_index_3d(p))\n",
    "        \n",
    "    # def convert_index_3d_to_1d(self, index):\n",
    "    #     x_size, y_size, z_size = self.grid_size\n",
    "    #     x, y, z = index\n",
    "    #     return x*(y_size*z_size)+y*z_size+z\n",
    "\n",
    "    def _save_points(self, points):\n",
    "        self.points = points\n",
    "        grid_size = self.grid_size\n",
    "        saved_spatial_indices_list = [[[[] for i in range(grid_size[2])] for i in range(grid_size[1])] for i in range(grid_size[0])]\n",
    "        for i in range(points.shape[0]):\n",
    "            p = points[i, :]\n",
    "            spatial_index = self.calc_spatial_index_3d(p)\n",
    "            saved_spatial_indices_list[spatial_index[0]][spatial_index[1]][spatial_index[2]].append(i)\n",
    "        self.saved_spatial_indices = np.array(saved_spatial_indices_list, dtype=list)\n",
    "        # print(self.saved_spatial_indices.shape)\n",
    "        \n",
    "    def get_box_neighbors_indices(self, p, r):\n",
    "        p_bbox_min = np.maximum(p-r, self.bbox_min)\n",
    "        p_bbox_max = np.minimum(p+r, self.bbox_max)\n",
    "        p_bbox_min_s_index = self.calc_spatial_index_3d(p_bbox_min)\n",
    "        p_bbox_max_s_index = self.calc_spatial_index_3d(p_bbox_max)\n",
    "        # print(\"p, r\", p, r)\n",
    "        # print(\"p_sp_ind_3d, p_sp_ind, p_sp_ind_2\", self.calc_spatial_index_3d(p), self.calc_spatial_index_1d(p), self.convert_index_3d_to_1d(self.calc_spatial_index_3d(p)))\n",
    "        # print(\"bbox_min, bbox_max\", self.bbox_min, self.bbox_max)\n",
    "        # print(\"p-r, p+r\", p-r, p+r)\n",
    "        # print(\"p_bbox_min, p_bbox_max\", p_bbox_min, p_bbox_max)\n",
    "        # print(\"p_bbox_min_s_index, p_bbox_max_s_index\", p_bbox_min_s_index, p_bbox_max_s_index)\n",
    "        \n",
    "        points_array = self.saved_spatial_indices[p_bbox_min_s_index[0]:p_bbox_max_s_index[0]+1, p_bbox_min_s_index[1]:p_bbox_max_s_index[1]+1, p_bbox_min_s_index[2]:p_bbox_max_s_index[2]+1]\n",
    "        # for x in range(p_bbox_min_s_index[0], p_bbox_max_s_index[0]+1):\n",
    "        #     for y in range(p_bbox_min_s_index[1], p_bbox_max_s_index[1]+1):\n",
    "        #         for z in range(p_bbox_min_s_index[2], p_bbox_max_s_index[2]+1):\n",
    "        #             points = self.saved_spatial_indices[x, y, z, :]\n",
    "        #             # print(x, y, z, len(points))\n",
    "        #             if len(points)>0:\n",
    "        #                 result += points\n",
    "        result = []\n",
    "        for l in points_array.flatten():\n",
    "            result+=l\n",
    "        return np.array(result, dtype=int)\n",
    "\n",
    "    # Don't like the name, but alias it to find_neighbors\n",
    "    def find_closest_points(self, point, h):\n",
    "        return self.find_neighbors(point, h)\n",
    "        \n",
    "    def find_neighbors(self, point, h):\n",
    "        box_neighbors_indices = self.get_box_neighbors_indices(point, h)\n",
    "        points = self.points[box_neighbors_indices, :]\n",
    "        norms = np.linalg.norm(points-point, axis=1)\n",
    "        neighbors_points_indices = np.argwhere(norms<h)\n",
    "        neighbors_points_indices = neighbors_points_indices.reshape(neighbors_points_indices.shape[0])\n",
    "        \n",
    "        return box_neighbors_indices[neighbors_points_indices], norms[neighbors_points_indices]\n",
    "        \n",
    "    def find_closest_point_helper(self, point, excluded_indices, radius_level=0, reached_bottom=False):\n",
    "        point_3d_index = self.calc_spatial_index_3d(point)\n",
    "        point_bbox_min = np.maximum(point_3d_index-radius_level, 0)\n",
    "        point_bbox_max = np.minimum(point_3d_index+radius_level, np.array(self.grid_size)-1)\n",
    "        \n",
    "        closest_norm = None\n",
    "        closest_point = None\n",
    "\n",
    "        \n",
    "        # Loop over the range of x, y, z\n",
    "        for x in range(point_bbox_min[0], point_bbox_max[0] + 1):\n",
    "            for y in range(point_bbox_min[1], point_bbox_max[1] + 1):\n",
    "                for z in range(point_bbox_min[2], point_bbox_max[2] + 1):\n",
    "                     # Check if the current cell is on the surface\n",
    "                    if (x == point_bbox_min[0] or x == point_bbox_max[0] or\n",
    "                        y == point_bbox_min[1] or y == point_bbox_max[1] or\n",
    "                        z == point_bbox_min[2] or z == point_bbox_max[2]):\n",
    "                        points_indices = [x for x in self.saved_spatial_indices[x, y, z] if x not in excluded_indices]\n",
    "                        points = self.points[points_indices, :]\n",
    "                        if len(points)>0:\n",
    "                            norms = np.linalg.norm(points-point, axis=1)\n",
    "                            closest_point_index = np.argmin(norms)\n",
    "                            closest_point_norm = norms[closest_point_index]\n",
    "                            if closest_norm==None or closest_point_norm<closest_norm:\n",
    "                                closest_norm = closest_point_norm\n",
    "                                closest_point = points[closest_point_index]\n",
    "        \n",
    "        if closest_norm==None:\n",
    "            return self.find_closest_point_helper(point, excluded_indices, radius_level+1)\n",
    "        elif reached_bottom:\n",
    "            return closest_point, closest_norm\n",
    "        else:\n",
    "            next_step_value = self.find_closest_point_helper(point, excluded_indices, radius_level+1, True)\n",
    "            # There is a possibility that the closest point lied in next step, if the point close to boundary in its cell.\n",
    "            if next_step_value[1]<closest_norm:\n",
    "                return next_step_value[0], next_step_value[1]\n",
    "            else:\n",
    "                return closest_point, closest_norm\n",
    "        \n",
    "    def find_closest_point(self, point, excluded_indices=[]):\n",
    "        return self.find_closest_point_helper(point, excluded_indices)\n",
    "        \n",
    "spatialIndexing = SpatialIndexing(c, 10)\n",
    "\n"
   ]
  },
  {
   "cell_type": "markdown",
   "metadata": {},
   "source": [
    "# SML/MaPLe Bindings"
   ]
  },
  {
   "cell_type": "code",
   "execution_count": 28,
   "metadata": {},
   "outputs": [],
   "source": [
    "import subprocess\n",
    "\n",
    "def find_closest_points_sml(p, points, h):\n",
    "    pass\n",
    "\n",
    "# Run the executable file of `make closest-points`.\n",
    "def find_closest_point_sml(p, points, sml_exec_path='./closest-point'):\n",
    "    # Prepare the input string (query point + all points)\n",
    "    input_str = ' '.join(map(str, p)) + '\\n'\n",
    "    for pt in points:\n",
    "        input_str += ' '.join(map(str, pt)) + '\\n'\n",
    "\n",
    "    h = 1e10\n",
    "    result = subprocess.run(\n",
    "        [sml_exec_path, str(h)],\n",
    "        input=input_str,\n",
    "        stdout=subprocess.PIPE,\n",
    "        text=True\n",
    "    )\n",
    "    lines = result.stdout.strip().split('\\n')\n",
    "    if len(lines) < 2 or not lines[0].strip():\n",
    "        raise ValueError(\"No points found by SML\")\n",
    "    indices = list(map(int, lines[0].split()))\n",
    "    norms = list(map(float, lines[1].split()))\n",
    "    min_idx = np.argmin(norms)\n",
    "    closest_index = indices[min_idx]\n",
    "    closest_distance = norms[min_idx]\n",
    "    closest_point = points[closest_index]\n",
    "    return closest_point, closest_distance\n",
    "\n",
    "def find_closest_point_sml_parallel(p, points, sml_exec_path='./closest-point-parellal'):\n",
    "    # Prepare the input string (query point + all points)\n",
    "    input_str = ' '.join(map(str, p)) + '\\n'\n",
    "    for pt in points:\n",
    "        input_str += ' '.join(map(str, pt)) + '\\n'\n",
    "\n",
    "    h = 1e10\n",
    "    result = subprocess.run(\n",
    "        [sml_exec_path, str(h)],\n",
    "        input=input_str,\n",
    "        stdout=subprocess.PIPE,\n",
    "        text=True\n",
    "    )\n",
    "    lines = result.stdout.strip().split('\\n')\n",
    "    if len(lines) < 2 or not lines[0].strip():\n",
    "        raise ValueError(\"No points found by SML (parallel)\")\n",
    "    indices = list(map(int, lines[0].split()))\n",
    "    norms = list(map(float, lines[1].split()))\n",
    "    min_idx = np.argmin(norms)\n",
    "    closest_index = indices[min_idx]\n",
    "    closest_distance = norms[min_idx]\n",
    "    closest_point = points[closest_index]\n",
    "    return closest_point, closest_distance"
   ]
  },
  {
   "cell_type": "markdown",
   "metadata": {},
   "source": [
    "# Testing Closest Points"
   ]
  },
  {
   "cell_type": "code",
   "execution_count": 29,
   "metadata": {},
   "outputs": [
    {
     "name": "stdout",
     "output_type": "stream",
     "text": [
      "Results in different implementations of point:( -11.18728482 -25.91066198 -5.58257382 )\n",
      "\"find_closest_points\":\n",
      "(3,) (3,)\n",
      "[ 23 389 390] [390  23 389]\n",
      "[12.80069945 11.38976057 12.07831045] [12.07831045 12.80069945 11.38976057]\n",
      "\"find_closest_point\":\n",
      "Python: (array([ -2.69432868, -18.6943359 ,  -3.23289729]), np.float64(11.389760570054694)) Time: 0.0010426044464111328 seconds\n",
      "Class: (array([ -2.69432868, -18.6943359 ,  -3.23289729]), np.float64(11.389760570054694)) Time: 0.003271341323852539 seconds\n",
      "SML: (array([ -2.69432868, -18.6943359 ,  -3.23289729]), 11.3897605701) Time: 0.05013895034790039 seconds\n"
     ]
    },
    {
     "ename": "FileNotFoundError",
     "evalue": "[Errno 2] No such file or directory: './closest-points-parellal'",
     "output_type": "error",
     "traceback": [
      "\u001b[31m---------------------------------------------------------------------------\u001b[39m",
      "\u001b[31mFileNotFoundError\u001b[39m                         Traceback (most recent call last)",
      "\u001b[36mCell\u001b[39m\u001b[36m \u001b[39m\u001b[32mIn[29]\u001b[39m\u001b[32m, line 36\u001b[39m\n\u001b[32m     34\u001b[39m \u001b[38;5;66;03m# SML Parallel implementation\u001b[39;00m\n\u001b[32m     35\u001b[39m start = time.time()\n\u001b[32m---> \u001b[39m\u001b[32m36\u001b[39m cp4 = \u001b[43mfind_closest_point_sml_parallel\u001b[49m\u001b[43m(\u001b[49m\u001b[43mp\u001b[49m\u001b[43m,\u001b[49m\u001b[43m \u001b[49m\u001b[43mc\u001b[49m\u001b[43m)\u001b[49m\n\u001b[32m     37\u001b[39m end = time.time()\n\u001b[32m     38\u001b[39m \u001b[38;5;28mprint\u001b[39m(\u001b[33m\"\u001b[39m\u001b[33mSML Parallel:\u001b[39m\u001b[33m\"\u001b[39m, cp4, \u001b[33m\"\u001b[39m\u001b[33mTime:\u001b[39m\u001b[33m\"\u001b[39m, end - start, \u001b[33m\"\u001b[39m\u001b[33mseconds\u001b[39m\u001b[33m\"\u001b[39m)\n",
      "\u001b[36mCell\u001b[39m\u001b[36m \u001b[39m\u001b[32mIn[28]\u001b[39m\u001b[32m, line 38\u001b[39m, in \u001b[36mfind_closest_point_sml_parallel\u001b[39m\u001b[34m(p, points, sml_exec_path)\u001b[39m\n\u001b[32m     35\u001b[39m     input_str += \u001b[33m'\u001b[39m\u001b[33m \u001b[39m\u001b[33m'\u001b[39m.join(\u001b[38;5;28mmap\u001b[39m(\u001b[38;5;28mstr\u001b[39m, pt)) + \u001b[33m'\u001b[39m\u001b[38;5;130;01m\\n\u001b[39;00m\u001b[33m'\u001b[39m\n\u001b[32m     37\u001b[39m h = \u001b[32m1e10\u001b[39m\n\u001b[32m---> \u001b[39m\u001b[32m38\u001b[39m result = \u001b[43msubprocess\u001b[49m\u001b[43m.\u001b[49m\u001b[43mrun\u001b[49m\u001b[43m(\u001b[49m\n\u001b[32m     39\u001b[39m \u001b[43m    \u001b[49m\u001b[43m[\u001b[49m\u001b[43msml_exec_path\u001b[49m\u001b[43m,\u001b[49m\u001b[43m \u001b[49m\u001b[38;5;28;43mstr\u001b[39;49m\u001b[43m(\u001b[49m\u001b[43mh\u001b[49m\u001b[43m)\u001b[49m\u001b[43m]\u001b[49m\u001b[43m,\u001b[49m\n\u001b[32m     40\u001b[39m \u001b[43m    \u001b[49m\u001b[38;5;28;43minput\u001b[39;49m\u001b[43m=\u001b[49m\u001b[43minput_str\u001b[49m\u001b[43m,\u001b[49m\n\u001b[32m     41\u001b[39m \u001b[43m    \u001b[49m\u001b[43mstdout\u001b[49m\u001b[43m=\u001b[49m\u001b[43msubprocess\u001b[49m\u001b[43m.\u001b[49m\u001b[43mPIPE\u001b[49m\u001b[43m,\u001b[49m\n\u001b[32m     42\u001b[39m \u001b[43m    \u001b[49m\u001b[43mtext\u001b[49m\u001b[43m=\u001b[49m\u001b[38;5;28;43;01mTrue\u001b[39;49;00m\n\u001b[32m     43\u001b[39m \u001b[43m\u001b[49m\u001b[43m)\u001b[49m\n\u001b[32m     44\u001b[39m lines = result.stdout.strip().split(\u001b[33m'\u001b[39m\u001b[38;5;130;01m\\n\u001b[39;00m\u001b[33m'\u001b[39m)\n\u001b[32m     45\u001b[39m \u001b[38;5;28;01mif\u001b[39;00m \u001b[38;5;28mlen\u001b[39m(lines) < \u001b[32m2\u001b[39m \u001b[38;5;129;01mor\u001b[39;00m \u001b[38;5;129;01mnot\u001b[39;00m lines[\u001b[32m0\u001b[39m].strip():\n",
      "\u001b[36mFile \u001b[39m\u001b[32m/usr/local/stow/python-3.12/lib/python3.12/subprocess.py:548\u001b[39m, in \u001b[36mrun\u001b[39m\u001b[34m(input, capture_output, timeout, check, *popenargs, **kwargs)\u001b[39m\n\u001b[32m    545\u001b[39m     kwargs[\u001b[33m'\u001b[39m\u001b[33mstdout\u001b[39m\u001b[33m'\u001b[39m] = PIPE\n\u001b[32m    546\u001b[39m     kwargs[\u001b[33m'\u001b[39m\u001b[33mstderr\u001b[39m\u001b[33m'\u001b[39m] = PIPE\n\u001b[32m--> \u001b[39m\u001b[32m548\u001b[39m \u001b[38;5;28;01mwith\u001b[39;00m \u001b[43mPopen\u001b[49m\u001b[43m(\u001b[49m\u001b[43m*\u001b[49m\u001b[43mpopenargs\u001b[49m\u001b[43m,\u001b[49m\u001b[43m \u001b[49m\u001b[43m*\u001b[49m\u001b[43m*\u001b[49m\u001b[43mkwargs\u001b[49m\u001b[43m)\u001b[49m \u001b[38;5;28;01mas\u001b[39;00m process:\n\u001b[32m    549\u001b[39m     \u001b[38;5;28;01mtry\u001b[39;00m:\n\u001b[32m    550\u001b[39m         stdout, stderr = process.communicate(\u001b[38;5;28minput\u001b[39m, timeout=timeout)\n",
      "\u001b[36mFile \u001b[39m\u001b[32m/usr/local/stow/python-3.12/lib/python3.12/subprocess.py:1026\u001b[39m, in \u001b[36mPopen.__init__\u001b[39m\u001b[34m(self, args, bufsize, executable, stdin, stdout, stderr, preexec_fn, close_fds, shell, cwd, env, universal_newlines, startupinfo, creationflags, restore_signals, start_new_session, pass_fds, user, group, extra_groups, encoding, errors, text, umask, pipesize, process_group)\u001b[39m\n\u001b[32m   1022\u001b[39m         \u001b[38;5;28;01mif\u001b[39;00m \u001b[38;5;28mself\u001b[39m.text_mode:\n\u001b[32m   1023\u001b[39m             \u001b[38;5;28mself\u001b[39m.stderr = io.TextIOWrapper(\u001b[38;5;28mself\u001b[39m.stderr,\n\u001b[32m   1024\u001b[39m                     encoding=encoding, errors=errors)\n\u001b[32m-> \u001b[39m\u001b[32m1026\u001b[39m     \u001b[38;5;28;43mself\u001b[39;49m\u001b[43m.\u001b[49m\u001b[43m_execute_child\u001b[49m\u001b[43m(\u001b[49m\u001b[43margs\u001b[49m\u001b[43m,\u001b[49m\u001b[43m \u001b[49m\u001b[43mexecutable\u001b[49m\u001b[43m,\u001b[49m\u001b[43m \u001b[49m\u001b[43mpreexec_fn\u001b[49m\u001b[43m,\u001b[49m\u001b[43m \u001b[49m\u001b[43mclose_fds\u001b[49m\u001b[43m,\u001b[49m\n\u001b[32m   1027\u001b[39m \u001b[43m                        \u001b[49m\u001b[43mpass_fds\u001b[49m\u001b[43m,\u001b[49m\u001b[43m \u001b[49m\u001b[43mcwd\u001b[49m\u001b[43m,\u001b[49m\u001b[43m \u001b[49m\u001b[43menv\u001b[49m\u001b[43m,\u001b[49m\n\u001b[32m   1028\u001b[39m \u001b[43m                        \u001b[49m\u001b[43mstartupinfo\u001b[49m\u001b[43m,\u001b[49m\u001b[43m \u001b[49m\u001b[43mcreationflags\u001b[49m\u001b[43m,\u001b[49m\u001b[43m \u001b[49m\u001b[43mshell\u001b[49m\u001b[43m,\u001b[49m\n\u001b[32m   1029\u001b[39m \u001b[43m                        \u001b[49m\u001b[43mp2cread\u001b[49m\u001b[43m,\u001b[49m\u001b[43m \u001b[49m\u001b[43mp2cwrite\u001b[49m\u001b[43m,\u001b[49m\n\u001b[32m   1030\u001b[39m \u001b[43m                        \u001b[49m\u001b[43mc2pread\u001b[49m\u001b[43m,\u001b[49m\u001b[43m \u001b[49m\u001b[43mc2pwrite\u001b[49m\u001b[43m,\u001b[49m\n\u001b[32m   1031\u001b[39m \u001b[43m                        \u001b[49m\u001b[43merrread\u001b[49m\u001b[43m,\u001b[49m\u001b[43m \u001b[49m\u001b[43merrwrite\u001b[49m\u001b[43m,\u001b[49m\n\u001b[32m   1032\u001b[39m \u001b[43m                        \u001b[49m\u001b[43mrestore_signals\u001b[49m\u001b[43m,\u001b[49m\n\u001b[32m   1033\u001b[39m \u001b[43m                        \u001b[49m\u001b[43mgid\u001b[49m\u001b[43m,\u001b[49m\u001b[43m \u001b[49m\u001b[43mgids\u001b[49m\u001b[43m,\u001b[49m\u001b[43m \u001b[49m\u001b[43muid\u001b[49m\u001b[43m,\u001b[49m\u001b[43m \u001b[49m\u001b[43mumask\u001b[49m\u001b[43m,\u001b[49m\n\u001b[32m   1034\u001b[39m \u001b[43m                        \u001b[49m\u001b[43mstart_new_session\u001b[49m\u001b[43m,\u001b[49m\u001b[43m \u001b[49m\u001b[43mprocess_group\u001b[49m\u001b[43m)\u001b[49m\n\u001b[32m   1035\u001b[39m \u001b[38;5;28;01mexcept\u001b[39;00m:\n\u001b[32m   1036\u001b[39m     \u001b[38;5;66;03m# Cleanup if the child failed starting.\u001b[39;00m\n\u001b[32m   1037\u001b[39m     \u001b[38;5;28;01mfor\u001b[39;00m f \u001b[38;5;129;01min\u001b[39;00m \u001b[38;5;28mfilter\u001b[39m(\u001b[38;5;28;01mNone\u001b[39;00m, (\u001b[38;5;28mself\u001b[39m.stdin, \u001b[38;5;28mself\u001b[39m.stdout, \u001b[38;5;28mself\u001b[39m.stderr)):\n",
      "\u001b[36mFile \u001b[39m\u001b[32m/usr/local/stow/python-3.12/lib/python3.12/subprocess.py:1955\u001b[39m, in \u001b[36mPopen._execute_child\u001b[39m\u001b[34m(self, args, executable, preexec_fn, close_fds, pass_fds, cwd, env, startupinfo, creationflags, shell, p2cread, p2cwrite, c2pread, c2pwrite, errread, errwrite, restore_signals, gid, gids, uid, umask, start_new_session, process_group)\u001b[39m\n\u001b[32m   1953\u001b[39m     err_msg = os.strerror(errno_num)\n\u001b[32m   1954\u001b[39m \u001b[38;5;28;01mif\u001b[39;00m err_filename \u001b[38;5;129;01mis\u001b[39;00m \u001b[38;5;129;01mnot\u001b[39;00m \u001b[38;5;28;01mNone\u001b[39;00m:\n\u001b[32m-> \u001b[39m\u001b[32m1955\u001b[39m     \u001b[38;5;28;01mraise\u001b[39;00m child_exception_type(errno_num, err_msg, err_filename)\n\u001b[32m   1956\u001b[39m \u001b[38;5;28;01melse\u001b[39;00m:\n\u001b[32m   1957\u001b[39m     \u001b[38;5;28;01mraise\u001b[39;00m child_exception_type(errno_num, err_msg)\n",
      "\u001b[31mFileNotFoundError\u001b[39m: [Errno 2] No such file or directory: './closest-points-parellal'"
     ]
    }
   ],
   "source": [
    "# Testing start by defining a point\n",
    "p = np.array([-11.18728482, -25.91066198, -5.58257382])\n",
    "\n",
    "print('Results in different implementations of point:(', *p, ')')\n",
    "print('\"find_closest_points\":')\n",
    "cps, n = find_closest_points(p, c, 13)\n",
    "cps2, n2 = spatialIndexing.find_closest_points(p, 13)\n",
    "print(n.shape, n2.shape)\n",
    "print(cps[:3], cps2[:3])\n",
    "print(n[:3], n2[:3])\n",
    "# print(n, n2)\n",
    "import time\n",
    "\n",
    "print('\"find_closest_point\":')\n",
    "\n",
    "# Python implementation\n",
    "start = time.time()\n",
    "cp = find_closest_point(p, c)\n",
    "end = time.time()\n",
    "print(\"Python:\", cp, \"Time:\", end - start, \"seconds\")\n",
    "\n",
    "# Class-based implementation\n",
    "start = time.time()\n",
    "cp2 = spatialIndexing.find_closest_point(p)\n",
    "end = time.time()\n",
    "print(\"Class:\", cp2, \"Time:\", end - start, \"seconds\")\n",
    "\n",
    "# SML implementation\n",
    "start = time.time()\n",
    "cp3 = find_closest_point_sml(p, c)\n",
    "end = time.time()\n",
    "print(\"SML:\", cp3, \"Time:\", end - start, \"seconds\")\n",
    "\n",
    "# SML Parallel implementation\n",
    "start = time.time()\n",
    "cp4 = find_closest_point_sml_parallel(p, c)\n",
    "end = time.time()\n",
    "print(\"SML Parallel:\", cp4, \"Time:\", end - start, \"seconds\")"
   ]
  },
  {
   "cell_type": "markdown",
   "metadata": {},
   "source": [
    "# Using a non-axis-aligned grid (PCA)"
   ]
  },
  {
   "cell_type": "code",
   "execution_count": 32,
   "metadata": {},
   "outputs": [
    {
     "name": "stdout",
     "output_type": "stream",
     "text": [
      "Aligned point with Constraints:\n"
     ]
    },
    {
     "data": {
      "application/vnd.jupyter.widget-view+json": {
       "model_id": "7a841adeccd34c639ab3027c77ebb21d",
       "version_major": 2,
       "version_minor": 0
      },
      "text/plain": [
       "Renderer(camera=PerspectiveCamera(children=(DirectionalLight(color='white', intensity=0.6, position=(6.9472255…"
      ]
     },
     "metadata": {},
     "output_type": "display_data"
    },
    {
     "name": "stdout",
     "output_type": "stream",
     "text": [
      "Plot saved to file ./plots/5.html.\n"
     ]
    },
    {
     "data": {
      "text/html": [
       "\n",
       "        <iframe\n",
       "            width=\"700\"\n",
       "            height=\"600\"\n",
       "            src=\"./plots/5.html\"\n",
       "            frameborder=\"0\"\n",
       "            allowfullscreen\n",
       "            \n",
       "        ></iframe>\n",
       "        "
      ],
      "text/plain": [
       "<IPython.lib.display.IFrame at 0x7f87758406e0>"
      ]
     },
     "metadata": {},
     "output_type": "display_data"
    },
    {
     "name": "stdout",
     "output_type": "stream",
     "text": [
      "Not aligned original points:\n"
     ]
    },
    {
     "data": {
      "application/vnd.jupyter.widget-view+json": {
       "model_id": "d36de487abac47f5ac74053c712612c4",
       "version_major": 2,
       "version_minor": 0
      },
      "text/plain": [
       "Renderer(camera=PerspectiveCamera(children=(DirectionalLight(color='white', intensity=0.6, position=(11.288000…"
      ]
     },
     "metadata": {},
     "output_type": "display_data"
    },
    {
     "name": "stdout",
     "output_type": "stream",
     "text": [
      "Plot saved to file ./plots/6.html.\n"
     ]
    },
    {
     "data": {
      "text/html": [
       "\n",
       "        <iframe\n",
       "            width=\"700\"\n",
       "            height=\"600\"\n",
       "            src=\"./plots/6.html\"\n",
       "            frameborder=\"0\"\n",
       "            allowfullscreen\n",
       "            \n",
       "        ></iframe>\n",
       "        "
      ],
      "text/plain": [
       "<IPython.lib.display.IFrame at 0x7f8775843650>"
      ]
     },
     "metadata": {},
     "output_type": "display_data"
    }
   ],
   "source": [
    "# print(smallest, largest)\n",
    "luigi_points, luigi_normals = read_mesh_as_point_cloud(\"data/luigi.off\")\n",
    "def alignPointsToGrid(points):\n",
    "    centroid = np.mean(points, axis=0)\n",
    "    \n",
    "    pca = PCA(n_components=3) \n",
    "    pca.fit(points)\n",
    "    principal_axes = pca.components_\n",
    "\n",
    "    return (points - centroid) @ principal_axes.T\n",
    "luigiPointsSpatialIndexing = SpatialIndexing(luigi_points, 20)\n",
    "luigi_constraints, luigi_targets = get_points_constraints(luigi_points, luigi_normals, spatial_indexing=luigiPointsSpatialIndexing, eps_ratio=10)\n",
    "luigi_constraints = alignPointsToGrid(luigi_constraints)\n",
    "print(\"Aligned point with Constraints:\")\n",
    "plot_constraints(luigi_constraints, luigi_targets)\n",
    "# luigi_points_aligned = alignPointsToGrid(luigi_points)\n",
    "# print(\"Aligned:\")\n",
    "# p = mp.plot(luigi_points_aligned, shading={\"point_size\": 8})\n",
    "print(\"Not aligned original points:\")\n",
    "p = mp.plot(luigi_points, shading={\"point_size\": 8})\n",
    "save_and_display_plot(p)"
   ]
  },
  {
   "cell_type": "markdown",
   "metadata": {},
   "source": [
    "> We can see, after PCA. The model is now aligned to the canonical axis."
   ]
  },
  {
   "cell_type": "markdown",
   "metadata": {},
   "source": [
    "# Extracting the surface"
   ]
  },
  {
   "cell_type": "code",
   "execution_count": 33,
   "metadata": {},
   "outputs": [
    {
     "name": "stdout",
     "output_type": "stream",
     "text": [
      "Final grid size: [80 53 37] , Unit size:  1.9134063693459353 , Diagonal size: 196.79270559788165\n",
      "SpatialIndexing:\n",
      "WendlandMLSWithContraints:\n",
      "Interpolate:\n",
      "Fx gird:\n"
     ]
    },
    {
     "data": {
      "application/vnd.jupyter.widget-view+json": {
       "model_id": "c2267dfec3374afb81f711c88579b916",
       "version_major": 2,
       "version_minor": 0
      },
      "text/plain": [
       "Renderer(camera=PerspectiveCamera(children=(DirectionalLight(color='white', intensity=0.6, position=(6.9472274…"
      ]
     },
     "metadata": {},
     "output_type": "display_data"
    },
    {
     "name": "stdout",
     "output_type": "stream",
     "text": [
      "Plot saved to file ./plots/7.html.\n"
     ]
    },
    {
     "data": {
      "text/html": [
       "\n",
       "        <iframe\n",
       "            width=\"700\"\n",
       "            height=\"600\"\n",
       "            src=\"./plots/7.html\"\n",
       "            frameborder=\"0\"\n",
       "            allowfullscreen\n",
       "            \n",
       "        ></iframe>\n",
       "        "
      ],
      "text/plain": [
       "<IPython.lib.display.IFrame at 0x7f8777ea4890>"
      ]
     },
     "metadata": {},
     "output_type": "display_data"
    },
    {
     "name": "stdout",
     "output_type": "stream",
     "text": [
      "Marching tets:\n"
     ]
    },
    {
     "data": {
      "application/vnd.jupyter.widget-view+json": {
       "model_id": "9dc5a895ad514a1283b215f99ac7a5d9",
       "version_major": 2,
       "version_minor": 0
      },
      "text/plain": [
       "Renderer(camera=PerspectiveCamera(children=(DirectionalLight(color='white', intensity=0.6, position=(2.4583473…"
      ]
     },
     "metadata": {},
     "output_type": "display_data"
    },
    {
     "name": "stdout",
     "output_type": "stream",
     "text": [
      "Plot saved to file ./plots/8.html.\n"
     ]
    },
    {
     "data": {
      "text/html": [
       "\n",
       "        <iframe\n",
       "            width=\"700\"\n",
       "            height=\"600\"\n",
       "            src=\"./plots/8.html\"\n",
       "            frameborder=\"0\"\n",
       "            allowfullscreen\n",
       "            \n",
       "        ></iframe>\n",
       "        "
      ],
      "text/plain": [
       "<IPython.lib.display.IFrame at 0x7f8777b960c0>"
      ]
     },
     "metadata": {},
     "output_type": "display_data"
    },
    {
     "name": "stdout",
     "output_type": "stream",
     "text": [
      "Marching tets filtered:\n"
     ]
    },
    {
     "data": {
      "application/vnd.jupyter.widget-view+json": {
       "model_id": "da4422aa46f34ce88796e69210f98826",
       "version_major": 2,
       "version_minor": 0
      },
      "text/plain": [
       "Renderer(camera=PerspectiveCamera(children=(DirectionalLight(color='white', intensity=0.6, position=(2.4583473…"
      ]
     },
     "metadata": {},
     "output_type": "display_data"
    },
    {
     "name": "stdout",
     "output_type": "stream",
     "text": [
      "Plot saved to file ./plots/9.html.\n"
     ]
    },
    {
     "data": {
      "text/html": [
       "\n",
       "        <iframe\n",
       "            width=\"700\"\n",
       "            height=\"600\"\n",
       "            src=\"./plots/9.html\"\n",
       "            frameborder=\"0\"\n",
       "            allowfullscreen\n",
       "            \n",
       "        ></iframe>\n",
       "        "
      ],
      "text/plain": [
       "<IPython.lib.display.IFrame at 0x7f8775831af0>"
      ]
     },
     "metadata": {},
     "output_type": "display_data"
    }
   ],
   "source": [
    "def get_main_component(f):\n",
    "    components = igl.facet_components(f)\n",
    "    main_component = np.argmax(np.bincount(components))\n",
    "    faces_to_be_deleted = np.argwhere(components!=main_component)\n",
    "    faces_to_be_deleted = faces_to_be_deleted.reshape(faces_to_be_deleted.shape[0])\n",
    "    return np.delete(f, faces_to_be_deleted, axis=0)\n",
    "\n",
    "\n",
    "\n",
    "x, T, info = create_sampling_grid(luigi_constraints, resolution=80)\n",
    "# Print analytics\n",
    "print(\"Final grid size:\", info[0], \", Unit size: \", info[1], \", Diagonal size:\", info[2])\n",
    "\n",
    "print(\"SpatialIndexing:\")\n",
    "luigi_constraints_spatial_indexing = SpatialIndexing(luigi_constraints, resolution=20)\n",
    "print(\"WendlandMLSWithContraints:\")\n",
    "luigi_constraints_mls = WendlandMLSWithContraints(luigi_constraints, luigi_targets, calc_3d_polynomial_each_term_stacked, spatial_indexing=luigi_constraints_spatial_indexing)\n",
    "print(\"Interpolate:\")\n",
    "fx, in_wend = luigi_constraints_mls.interpolate_points_values(x, poly_degree=2, wendland_radius=12)\n",
    "\n",
    "print(\"Fx gird:\")\n",
    "plot_fx(x, fx)\n",
    "sv, sf, _, _ = igl.marching_tets(x, T, fx, 0)\n",
    "print(\"Marching tets:\")\n",
    "p = mp.plot(sv, sf, shading={\"wireframe\": True})\n",
    "save_and_display_plot(p)\n",
    "print(\"Marching tets filtered:\")\n",
    "p = mp.plot(sv, get_main_component(sf), shading={\"wireframe\": True})\n",
    "save_and_display_plot(p)\n"
   ]
  },
  {
   "cell_type": "markdown",
   "metadata": {},
   "source": [
    "## Testing different Wendland Radius"
   ]
  },
  {
   "cell_type": "code",
   "execution_count": 34,
   "metadata": {},
   "outputs": [
    {
     "name": "stdout",
     "output_type": "stream",
     "text": [
      "Small Wendland Radius ( 8 ):\n"
     ]
    },
    {
     "data": {
      "application/vnd.jupyter.widget-view+json": {
       "model_id": "94bd77d8e48d4b20bc655f5121fac753",
       "version_major": 2,
       "version_minor": 0
      },
      "text/plain": [
       "Renderer(camera=PerspectiveCamera(children=(DirectionalLight(color='white', intensity=0.6, position=(5.3315658…"
      ]
     },
     "metadata": {},
     "output_type": "display_data"
    },
    {
     "name": "stdout",
     "output_type": "stream",
     "text": [
      "Plot saved to file ./plots/10.html.\n"
     ]
    },
    {
     "data": {
      "text/html": [
       "\n",
       "        <iframe\n",
       "            width=\"700\"\n",
       "            height=\"600\"\n",
       "            src=\"./plots/10.html\"\n",
       "            frameborder=\"0\"\n",
       "            allowfullscreen\n",
       "            \n",
       "        ></iframe>\n",
       "        "
      ],
      "text/plain": [
       "<IPython.lib.display.IFrame at 0x7f8777e32540>"
      ]
     },
     "metadata": {},
     "output_type": "display_data"
    }
   ],
   "source": [
    "# wendland_radius = 16\n",
    "# print(\"Large Wendland Radius (\", wendland_radius,\"):\")\n",
    "# fx, in_wend = luigi_constraints_mls.interpolate_points_values(x, poly_degree=2, wendland_radius=wendland_radius)\n",
    "# sv, sf, _, _ = igl.marching_tets(x, T, fx, 0)\n",
    "# p = mp.plot(sv, get_main_component(sf), shading={\"wireframe\": True})\n",
    "# save_and_display_plot(p)\n",
    "\n",
    "# wendland_radius = 12\n",
    "# print(\"Normal Wendland Radius (\", wendland_radius,\"):\")\n",
    "# fx, in_wend = luigi_constraints_mls.interpolate_points_values(x, poly_degree=2, wendland_radius=wendland_radius)\n",
    "# sv, sf, _, _ = igl.marching_tets(x, T, fx, 0)\n",
    "# p = mp.plot(sv, get_main_component(sf), shading={\"wireframe\": True})\n",
    "# save_and_display_plot(p)\n",
    "\n",
    "wendland_radius = 8\n",
    "print(\"Small Wendland Radius (\", wendland_radius,\"):\")\n",
    "fx, in_wend = luigi_constraints_mls.interpolate_points_values(x, poly_degree=2, wendland_radius=wendland_radius)\n",
    "sv, sf, _, _ = igl.marching_tets(x, T, fx, 0)\n",
    "p = mp.plot(sv, get_main_component(sf), shading={\"wireframe\": True})\n",
    "save_and_display_plot(p)"
   ]
  },
  {
   "cell_type": "markdown",
   "metadata": {},
   "source": [
    "> We can see the larger the radius it is. The finer and less artifacts it is."
   ]
  },
  {
   "cell_type": "markdown",
   "metadata": {},
   "source": [
    "## Testing different Polynomial degrees"
   ]
  },
  {
   "cell_type": "code",
   "execution_count": 35,
   "metadata": {
    "scrolled": true
   },
   "outputs": [],
   "source": [
    "# print(\"Poly Degree 3:\")\n",
    "# fx, in_wend = luigi_constraints_mls.interpolate_points_values(x, poly_degree=3, wendland_radius=12)\n",
    "# sv, sf, _, _ = igl.marching_tets(x, T, fx, 0)\n",
    "# p = mp.plot(sv, get_main_component(sf), shading={\"wireframe\": True})\n",
    "# save_and_display_plot(p)\n",
    "\n",
    "# print(\"Poly Degree 2:\")\n",
    "# fx, in_wend = luigi_constraints_mls.interpolate_points_values(x, poly_degree=2, wendland_radius=12)\n",
    "# sv, sf, _, _ = igl.marching_tets(x, T, fx, 0)\n",
    "# p = mp.plot(sv, get_main_component(sf), shading={\"wireframe\": True})\n",
    "# save_and_display_plot(p)\n",
    "\n",
    "# print(\"Poly Degree 1:\")\n",
    "# fx, in_wend = luigi_constraints_mls.interpolate_points_values(x, poly_degree=1, wendland_radius=12)\n",
    "# sv, sf, _, _ = igl.marching_tets(x, T, fx, 0)\n",
    "# p = mp.plot(sv, get_main_component(sf), shading={\"wireframe\": True})\n",
    "# save_and_display_plot(p)"
   ]
  },
  {
   "cell_type": "markdown",
   "metadata": {},
   "source": [
    "> The higher the poly degree, the finer the surface curvature. How ever as the degree increased, the artifacts also increased."
   ]
  }
 ],
 "metadata": {
  "kernelspec": {
   "display_name": ".venv",
   "language": "python",
   "name": "python3"
  },
  "language_info": {
   "codemirror_mode": {
    "name": "ipython",
    "version": 3
   },
   "file_extension": ".py",
   "mimetype": "text/x-python",
   "name": "python",
   "nbconvert_exporter": "python",
   "pygments_lexer": "ipython3",
   "version": "3.12.7"
  }
 },
 "nbformat": 4,
 "nbformat_minor": 4
}
