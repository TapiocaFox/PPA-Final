{
 "cells": [
  {
   "cell_type": "code",
   "execution_count": 1,
   "metadata": {
    "scrolled": true
   },
   "outputs": [],
   "source": [
    "import numpy as np\n",
    "import igl\n",
    "import meshplot as mp\n",
    "import os\n",
    "from sklearn.decomposition import PCA\n",
    "    \n",
    "\n",
    "from IPython.display import display, HTML, IFrame\n",
    "mp.jupyter()"
   ]
  },
  {
   "cell_type": "code",
   "execution_count": 2,
   "metadata": {
    "scrolled": true
   },
   "outputs": [],
   "source": [
    "# Utility function to generate a tet grid\n",
    "# n is a 3-tuple with the number of cell in every direction\n",
    "# mmin/mmax are the grid bounding box corners\n",
    "\n",
    "def tet_grid(n, mmin, mmax):\n",
    "    nx = n[0]\n",
    "    ny = n[1]\n",
    "    nz = n[2]\n",
    "    \n",
    "    delta = mmax-mmin\n",
    "    \n",
    "    deltax = delta[0]/(nx-1)\n",
    "    deltay = delta[1]/(ny-1)\n",
    "    deltaz = delta[2]/(nz-1)\n",
    "    \n",
    "    T = np.zeros(((nx-1)*(ny-1)*(nz-1)*6, 4), dtype=np.int64)\n",
    "    V = np.zeros((nx*ny*nz, 3))\n",
    "\n",
    "    mapping = -np.ones((nx, ny, nz), dtype=np.int64)\n",
    "\n",
    "\n",
    "    index = 0\n",
    "    for i in range(nx):\n",
    "        for j in range(ny):\n",
    "            for k in range(nz):\n",
    "                mapping[i, j, k] = index\n",
    "                V[index, :] = [i*deltax, j*deltay, k*deltaz]\n",
    "                index += 1\n",
    "    assert(index == V.shape[0])\n",
    "    \n",
    "    tets = np.array([\n",
    "        [0,1,3,4],\n",
    "        [5,2,6,7],\n",
    "        [4,1,5,3],\n",
    "        [4,3,7,5],\n",
    "        [3,1,5,2],\n",
    "        [2,3,7,5]\n",
    "    ])\n",
    "    \n",
    "    index = 0\n",
    "    for i in range(nx-1):\n",
    "        for j in range(ny-1):\n",
    "            for k in range(nz-1):\n",
    "                indices = [\n",
    "                    (i,   j,   k),\n",
    "                    (i+1, j,   k),\n",
    "                    (i+1, j+1, k),\n",
    "                    (i,   j+1, k),\n",
    "\n",
    "                    (i,   j,   k+1),\n",
    "                    (i+1, j,   k+1),\n",
    "                    (i+1, j+1, k+1),\n",
    "                    (i,   j+1, k+1),\n",
    "                ]\n",
    "                \n",
    "                for t in range(tets.shape[0]):\n",
    "                    tmp = [mapping[indices[ii]] for ii in tets[t, :]]\n",
    "                    T[index, :]=tmp\n",
    "                    index += 1\n",
    "                    \n",
    "    assert(index == T.shape[0])\n",
    "    \n",
    "    V += mmin\n",
    "    return V, T"
   ]
  },
  {
   "cell_type": "markdown",
   "metadata": {},
   "source": [
    "# Reading point cloud"
   ]
  },
  {
   "cell_type": "code",
   "execution_count": 3,
   "metadata": {
    "scrolled": true
   },
   "outputs": [
    {
     "data": {
      "application/vnd.jupyter.widget-view+json": {
       "model_id": "b58c0a700120475dbbfef139d7afa34c",
       "version_major": 2,
       "version_minor": 0
      },
      "text/plain": [
       "Renderer(camera=PerspectiveCamera(children=(DirectionalLight(color='white', intensity=0.6, position=(5.0, -23.…"
      ]
     },
     "metadata": {},
     "output_type": "display_data"
    },
    {
     "name": "stdout",
     "output_type": "stream",
     "text": [
      "Plot saved to file ./plots/0.html.\n"
     ]
    },
    {
     "data": {
      "text/html": [
       "\n",
       "        <iframe\n",
       "            width=\"700\"\n",
       "            height=\"600\"\n",
       "            src=\"./plots/0.html\"\n",
       "            frameborder=\"0\"\n",
       "            allowfullscreen\n",
       "            \n",
       "        ></iframe>\n",
       "        "
      ],
      "text/plain": [
       "<IPython.lib.display.IFrame at 0x7f5af7301340>"
      ]
     },
     "metadata": {},
     "output_type": "display_data"
    },
    {
     "name": "stdout",
     "output_type": "stream",
     "text": [
      "[[  0.    0.    0. ]\n",
      " [ -0.1  -6.    1. ]\n",
      " [ -4.4  -3.4  -1. ]\n",
      " ...\n",
      " [ 26.4 -37.2 -96.2]\n",
      " [ 26.2 -44.4 -96.1]\n",
      " [ 24.8 -50.2 -96.4]]\n"
     ]
    }
   ],
   "source": [
    "def read_mesh_as_point_cloud(filename, shrink_ratio=1):\n",
    "    p, v = igl.read_triangle_mesh(filename)\n",
    "    p /= shrink_ratio\n",
    "    n = igl.per_vertex_normals(p, v)\n",
    "    return p, n\n",
    "\n",
    "plot_count = 0\n",
    "def save_and_display_plot(p):\n",
    "    global plot_count\n",
    "    if not os.path.exists(\"plots\"):\n",
    "        os.makedirs(\"plots\")\n",
    "    filename = \"./plots/\"+str(plot_count)+\".html\"\n",
    "    p.save(filename)\n",
    "    display(IFrame(src=filename, width=700, height=600))\n",
    "    plot_count += 1\n",
    "    # html = p.to_html(imports=True, html_frame=True)\n",
    "    # display(HTML(html))\n",
    "    \n",
    "pi, ni = read_mesh_as_point_cloud(\"data/cat.off\", 10)\n",
    "p = mp.plot(pi, shading={\"point_size\": 8})\n",
    "save_and_display_plot(p)\n",
    "print(pi)"
   ]
  },
  {
   "cell_type": "markdown",
   "metadata": {},
   "source": [
    "# MLS function"
   ]
  },
  {
   "cell_type": "code",
   "execution_count": 4,
   "metadata": {
    "scrolled": true
   },
   "outputs": [],
   "source": [
    "# Parameters\n",
    "bbox_min = np.array([-1., -1., -1.])\n",
    "bbox_max = np.array([1., 1., 1.])\n",
    "bbox_diag = np.linalg.norm(bbox_max - bbox_min)\n",
    "\n",
    "n = 20"
   ]
  },
  {
   "cell_type": "code",
   "execution_count": 5,
   "metadata": {
    "scrolled": true
   },
   "outputs": [],
   "source": [
    "# Generate grid n x n x n\n",
    "\n",
    "x, T = tet_grid((n, n, n), bbox_min - 0.05 * bbox_diag, bbox_max + 0.05 * bbox_diag)\n",
    "\n",
    "#Compute implicit sphere function\n",
    "center = np.array([0., 0., 0.])\n",
    "radius = 1\n",
    "fx = np.linalg.norm(x-center, axis=1) - radius\n"
   ]
  },
  {
   "cell_type": "code",
   "execution_count": null,
   "metadata": {
    "scrolled": true
   },
   "outputs": [
    {
     "data": {
      "application/vnd.jupyter.widget-view+json": {
       "model_id": "9515e960f44044ec8f6157611e524e41",
       "version_major": 2,
       "version_minor": 0
      },
      "text/plain": [
       "Renderer(camera=PerspectiveCamera(children=(DirectionalLight(color='white', intensity=0.6, position=(0.0, 0.0,…"
      ]
     },
     "metadata": {},
     "output_type": "display_data"
    },
    {
     "name": "stdout",
     "output_type": "stream",
     "text": [
      "Plot saved to file ./plots/1.html.\n"
     ]
    },
    {
     "data": {
      "text/html": [
       "\n",
       "        <iframe\n",
       "            width=\"700\"\n",
       "            height=\"600\"\n",
       "            src=\"./plots/1.html\"\n",
       "            frameborder=\"0\"\n",
       "            allowfullscreen\n",
       "            \n",
       "        ></iframe>\n",
       "        "
      ],
      "text/plain": [
       "<IPython.lib.display.IFrame at 0x7f5af6738b90>"
      ]
     },
     "metadata": {},
     "output_type": "display_data"
    }
   ],
   "source": [
    "# Treshold fx to visualize inside outside\n",
    "# print(fx.shape, x.shape)\n",
    "ind = np.zeros_like(fx)\n",
    "ind[fx >= 0] = 1\n",
    "ind[fx < 0] = -1\n",
    "p = mp.plot(x, c=ind, shading={\"point_size\": 0.1,\"width\": 800, \"height\": 800})\n",
    "save_and_display_plot(p)"
   ]
  },
  {
   "cell_type": "code",
   "execution_count": 7,
   "metadata": {
    "jp-MarkdownHeadingCollapsed": true
   },
   "outputs": [],
   "source": [
    "# Marching to extract surface"
   ]
  },
  {
   "cell_type": "code",
   "execution_count": 8,
   "metadata": {
    "scrolled": true
   },
   "outputs": [
    {
     "data": {
      "application/vnd.jupyter.widget-view+json": {
       "model_id": "505829f8bd154bbdae91ba3109a238c3",
       "version_major": 2,
       "version_minor": 0
      },
      "text/plain": [
       "Renderer(camera=PerspectiveCamera(children=(DirectionalLight(color='white', intensity=0.6, position=(0.0, 0.0,…"
      ]
     },
     "metadata": {},
     "output_type": "display_data"
    }
   ],
   "source": [
    "# Marcing tet to extract surface\n",
    "# print(T)\n",
    "sv, sf, _, _ = igl.marching_tets(x, T, fx, 0)\n",
    "p = mp.plot(sv, sf, shading={\"wireframe\": True})"
   ]
  },
  {
   "cell_type": "markdown",
   "metadata": {
    "scrolled": true
   },
   "source": [
    "# Setting up the Constraints"
   ]
  },
  {
   "cell_type": "code",
   "execution_count": 9,
   "metadata": {
    "jp-MarkdownHeadingCollapsed": true,
    "scrolled": true
   },
   "outputs": [
    {
     "data": {
      "application/vnd.jupyter.widget-view+json": {
       "model_id": "edcf86d610af48568702f1e4e191497d",
       "version_major": 2,
       "version_minor": 0
      },
      "text/plain": [
       "Renderer(camera=PerspectiveCamera(children=(DirectionalLight(color='white', intensity=0.6, position=(5.0120944…"
      ]
     },
     "metadata": {},
     "output_type": "display_data"
    },
    {
     "name": "stdout",
     "output_type": "stream",
     "text": [
      "Plot saved to file ./plots/2.html.\n"
     ]
    },
    {
     "data": {
      "text/html": [
       "\n",
       "        <iframe\n",
       "            width=\"700\"\n",
       "            height=\"600\"\n",
       "            src=\"./plots/2.html\"\n",
       "            frameborder=\"0\"\n",
       "            allowfullscreen\n",
       "            \n",
       "        ></iframe>\n",
       "        "
      ],
      "text/plain": [
       "<IPython.lib.display.IFrame at 0x7f5af633bfe0>"
      ]
     },
     "metadata": {},
     "output_type": "display_data"
    }
   ],
   "source": [
    "# find_closest_point\n",
    "def find_closest_point(point, points):\n",
    "    norms = np.linalg.norm(points-point, axis=1)\n",
    "    closest_point_index = np.argmin(norms)\n",
    "    # closest_point_index = np.argmin(norms)\n",
    "    return points[closest_point_index], norms[closest_point_index]\n",
    "\n",
    "def calc_bounding_box(points):\n",
    "    largest = np.amax(points, axis=0)\n",
    "    smallest = np.amin(points, axis=0)\n",
    "    # print(smallest, largest)\n",
    "    return smallest, largest\n",
    "\n",
    "def calc_constraint_for_point(point, normal, eps, norm):\n",
    "    pi_constraint = [0, 0, 0]\n",
    "    pi_constraint[0] = point[0]+eps*normal[0]\n",
    "    pi_constraint[1] = point[1]+eps*normal[1]\n",
    "    pi_constraint[2] = point[2]+eps*normal[2]\n",
    "    counter = 0\n",
    "    # print(np.linalg.norm(pi_constraint-np.array(point)))\n",
    "    while np.linalg.norm(pi_constraint-np.array(point))>norm:\n",
    "        counter += 1\n",
    "        pi_constraint[0] = point[0]+pow(0.5, counter)*eps*normal[0]\n",
    "        pi_constraint[1] = point[1]+pow(0.5, counter)*eps*normal[1]\n",
    "        pi_constraint[2] = point[2]+pow(0.5, counter)*eps*normal[2]\n",
    "    return pi_constraint, pow(0.5, counter)\n",
    "\n",
    "# Setting up the \n",
    "\n",
    "def get_points_constraints(points, normals, find_closest_point_func=None, spatial_indexing=None, eps_ratio=0.01):\n",
    "    normals = normals/np.linalg.norm(normals, axis=1).reshape(-1, 1)\n",
    "    # print(np.linalg.norm(normals, axis=0))\n",
    "    smallest_diagonal, largest_diagonal = calc_bounding_box(pi)\n",
    "    eps = eps_ratio * np.linalg.norm(np.array(largest_diagonal)-np.array(smallest_diagonal))\n",
    "    points_list = points.tolist()\n",
    "    normals_list = normals.tolist()\n",
    "    points_plus_list = []\n",
    "    points_minus_list = []\n",
    "    points_plus_eps_coeff_list = []\n",
    "    points_minus_eps_coeff_list = []\n",
    "    for i in range(len(points_list)):\n",
    "        p = points_list[i]\n",
    "        n = normals_list[i]\n",
    "        points_without_p = np.delete(points, [i], axis=0)\n",
    "        if spatial_indexing==None:\n",
    "            _, closest_norm = find_closest_point_func(p, points_without_p)\n",
    "        else:\n",
    "            _, closest_norm = spatial_indexing.find_closest_point(p, excluded_indices=[i])\n",
    "        p_plus, p_plus_eps_coeff = calc_constraint_for_point(p, n, eps, closest_norm)\n",
    "        p_minus, p_minus_eps_coeff = calc_constraint_for_point(p, n, -eps, closest_norm)\n",
    "        points_plus_list.append(p_plus)\n",
    "        points_minus_list.append(p_minus)\n",
    "        points_plus_eps_coeff_list.append(p_plus_eps_coeff)\n",
    "        points_minus_eps_coeff_list.append(p_minus_eps_coeff)\n",
    "        \n",
    "    points_plus = np.array(points_plus_list)\n",
    "    points_minus = np.array(points_minus_list)\n",
    "    points_plus_eps_coeff = np.array(points_plus_eps_coeff_list)\n",
    "    points_minus_eps_coeff = np.array(points_minus_eps_coeff_list)\n",
    "    points_count = points.shape[0]\n",
    "    # Constraints\n",
    "    constraints = np.concatenate((points, points_plus, points_minus))\n",
    "    # Target Values\n",
    "    targets = np.zeros(constraints.shape[0])\n",
    "    targets[:points_count] = 0 # B, Surface\n",
    "    # print(points_plus_eps_coeff)\n",
    "    # print(points_minus_eps_coeff)\n",
    "    targets[points_count:2*points_count] = eps*points_plus_eps_coeff # R, Outside\n",
    "    targets[2*points_count:] = -eps*points_minus_eps_coeff # G, Inside\n",
    "\n",
    "    return constraints, targets\n",
    "\n",
    "def plot_constraints(constraints, targets, point_size=8):\n",
    "    color = np.zeros(constraints.shape)\n",
    "    color[targets>0, 0] = 1 # R, Outside\n",
    "    color[targets<0, 1] = 1 # G, Inside\n",
    "    color[targets==0, 2] = 1 # B, Surface\n",
    "    p = mp.plot(constraints, c=color, shading={\"point_size\": point_size})\n",
    "    save_and_display_plot(p)\n",
    "    \n",
    "c, d = get_points_constraints(pi, ni, find_closest_point)\n",
    "plot_constraints(c, d)"
   ]
  },
  {
   "cell_type": "markdown",
   "metadata": {},
   "source": [
    "# Use MLS interpolation to extend to function `f`"
   ]
  },
  {
   "cell_type": "markdown",
   "metadata": {},
   "source": [
    "## Create a grid sampling the 3D space"
   ]
  },
  {
   "cell_type": "code",
   "execution_count": 10,
   "metadata": {},
   "outputs": [
    {
     "name": "stdout",
     "output_type": "stream",
     "text": [
      "Final grid size: [18 25 30] , Unit size:  4.063125090291515 , Diagonal size: 174.71437888253516\n"
     ]
    }
   ],
   "source": [
    "def create_sampling_grid(points, resolution, bbox_increase_ratio=0.05):\n",
    "    bbox_min, bbox_max = calc_bounding_box(points)\n",
    "    \n",
    "    # Enlarge it a bit.\n",
    "    bbox_diag = np.linalg.norm(bbox_max - bbox_min)\n",
    "    bbox_min, bbox_max = bbox_min - bbox_increase_ratio * bbox_diag, bbox_max + bbox_increase_ratio * bbox_diag\n",
    "    \n",
    "    # Calculate resolution for each axis.\n",
    "    bbox_size = bbox_max-bbox_min\n",
    "    largest_size = np.amax(bbox_size)\n",
    "    unit_size = largest_size/resolution\n",
    "    grid_size = (np.ceil(bbox_size/unit_size)).astype(int)\n",
    "    grid_size[grid_size>resolution]=resolution\n",
    "    bbox_mid = (bbox_max+bbox_min)/2\n",
    "    bbox_min = bbox_mid-unit_size*grid_size/2\n",
    "    bbox_max = bbox_mid+unit_size*grid_size/2\n",
    "    bbox_diag = np.linalg.norm(bbox_max - bbox_min)\n",
    "\n",
    "\n",
    "    x, T = tet_grid(grid_size, bbox_min, bbox_max)\n",
    "    return x, T, (grid_size, unit_size, bbox_diag)\n",
    "    \n",
    "x, T, info = create_sampling_grid(c, resolution=30)\n",
    "# Print analytics\n",
    "print(\"Final grid size:\", info[0], \", Unit size: \", info[1], \", Diagonal size:\", info[2])"
   ]
  },
  {
   "cell_type": "markdown",
   "metadata": {},
   "source": [
    "## Utilities functions"
   ]
  },
  {
   "cell_type": "code",
   "execution_count": null,
   "metadata": {},
   "outputs": [
    {
     "name": "stdout",
     "output_type": "stream",
     "text": [
      "calc_3d_polynomial_each_term:\n",
      "[  1.       3.6     12.96     2.5      9.      32.4      6.25    22.5\n",
      "  81.       1.4      5.04    18.144    3.5     12.6     45.36     8.75\n",
      "  31.5    113.4      1.96     7.056   25.4016   4.9     17.64    63.504\n",
      "  12.25    44.1    158.76  ]\n",
      "[1.00000000e+00 6.30000000e+00 3.96900000e+01 5.20000000e+00\n",
      " 3.27600000e+01 2.06388000e+02 2.70400000e+01 1.70352000e+02\n",
      " 1.07321760e+03 4.10000000e+00 2.58300000e+01 1.62729000e+02\n",
      " 2.13200000e+01 1.34316000e+02 8.46190800e+02 1.10864000e+02\n",
      " 6.98443200e+02 4.40019216e+03 1.68100000e+01 1.05903000e+02\n",
      " 6.67188900e+02 8.74120000e+01 5.50695600e+02 3.46938228e+03\n",
      " 4.54542400e+02 2.86361712e+03 1.80407879e+04]\n",
      "calc_3d_polynomial_each_term (stacked):\n",
      "[[1.00000000e+00 3.60000000e+00 1.29600000e+01 2.50000000e+00\n",
      "  9.00000000e+00 3.24000000e+01 6.25000000e+00 2.25000000e+01\n",
      "  8.10000000e+01 1.40000000e+00 5.04000000e+00 1.81440000e+01\n",
      "  3.50000000e+00 1.26000000e+01 4.53600000e+01 8.75000000e+00\n",
      "  3.15000000e+01 1.13400000e+02 1.96000000e+00 7.05600000e+00\n",
      "  2.54016000e+01 4.90000000e+00 1.76400000e+01 6.35040000e+01\n",
      "  1.22500000e+01 4.41000000e+01 1.58760000e+02]\n",
      " [1.00000000e+00 6.30000000e+00 3.96900000e+01 5.20000000e+00\n",
      "  3.27600000e+01 2.06388000e+02 2.70400000e+01 1.70352000e+02\n",
      "  1.07321760e+03 4.10000000e+00 2.58300000e+01 1.62729000e+02\n",
      "  2.13200000e+01 1.34316000e+02 8.46190800e+02 1.10864000e+02\n",
      "  6.98443200e+02 4.40019216e+03 1.68100000e+01 1.05903000e+02\n",
      "  6.67188900e+02 8.74120000e+01 5.50695600e+02 3.46938228e+03\n",
      "  4.54542400e+02 2.86361712e+03 1.80407879e+04]]\n"
     ]
    }
   ],
   "source": [
    "def calc_3d_polynomial_each_term(v, polyDegree):\n",
    "    x, y, z = v[0], v[1], v[2]\n",
    "    result = np.ones((polyDegree+1, polyDegree+1, polyDegree+1))\n",
    "    # print(result)\n",
    "    for x_degree in range(1, polyDegree+1):\n",
    "        result[x_degree:, :, :] *= x\n",
    "        \n",
    "    for y_degree in range(1, polyDegree+1):\n",
    "        result[:, y_degree:, :] *= y\n",
    "        \n",
    "    for z_degree in range(1, polyDegree+1):\n",
    "        result[:, :, z_degree:] *= z\n",
    "    return result.flatten()\n",
    "\n",
    "def calc_3d_polynomial_each_term_stacked(v, polyDegree):\n",
    "    is_stacked = len(v.shape)==2\n",
    "    if not is_stacked:\n",
    "        v = v.reshape((1, 3))\n",
    "    result = np.ones((v.shape[0], polyDegree+1, polyDegree+1, polyDegree+1))\n",
    "    # print(result)\n",
    "    for x_degree in range(1, polyDegree+1):\n",
    "        m = result[:, x_degree:, :, :]\n",
    "        result[:, x_degree:, :, :] = (m.reshape((v.shape[0], -1))*v[:, 0, np.newaxis]).reshape(m.shape)\n",
    "        \n",
    "    for y_degree in range(1, polyDegree+1):\n",
    "        m = result[:, :, y_degree:, :]\n",
    "        result[:, :, y_degree:, :] = (m.reshape((v.shape[0], -1))*v[:, 1, np.newaxis]).reshape(m.shape)\n",
    "        \n",
    "    for z_degree in range(1, polyDegree+1):\n",
    "        m = result[:, :, :, z_degree:]\n",
    "        result[:, :, :, z_degree:] = (m.reshape((v.shape[0], -1))*v[:, 2, np.newaxis]).reshape(m.shape)\n",
    "    if is_stacked:\n",
    "        return result.reshape((v.shape[0], -1))\n",
    "    else:\n",
    "        return result.flatten()\n",
    "\n",
    "v = np.array([[1.4, 2.5, 3.6], [4.1, 5.2, 6.3]])\n",
    "\n",
    "print(\"calc_3d_polynomial_each_term:\")\n",
    "print(calc_3d_polynomial_each_term(v[0, :], 2))\n",
    "print(calc_3d_polynomial_each_term(v[1, :], 2))\n",
    "print(\"calc_3d_polynomial_each_term (stacked):\")\n",
    "print(calc_3d_polynomial_each_term_stacked(v, 2))\n",
    "# print(calc_3d_polynomial_each_term_stacked(v[0, :], 2))"
   ]
  },
  {
   "cell_type": "markdown",
   "metadata": {},
   "source": [
    "## MLS Interpolation"
   ]
  },
  {
   "cell_type": "code",
   "execution_count": 12,
   "metadata": {
    "scrolled": true
   },
   "outputs": [
    {
     "name": "stdout",
     "output_type": "stream",
     "text": [
      "Fx gird:\n"
     ]
    },
    {
     "data": {
      "application/vnd.jupyter.widget-view+json": {
       "model_id": "99afbc8761f44824af42029a8582d846",
       "version_major": 2,
       "version_minor": 0
      },
      "text/plain": [
       "Renderer(camera=PerspectiveCamera(children=(DirectionalLight(color='white', intensity=0.6, position=(5.0120944…"
      ]
     },
     "metadata": {},
     "output_type": "display_data"
    },
    {
     "name": "stdout",
     "output_type": "stream",
     "text": [
      "Plot saved to file ./plots/3.html.\n"
     ]
    },
    {
     "data": {
      "text/html": [
       "\n",
       "        <iframe\n",
       "            width=\"700\"\n",
       "            height=\"600\"\n",
       "            src=\"./plots/3.html\"\n",
       "            frameborder=\"0\"\n",
       "            allowfullscreen\n",
       "            \n",
       "        ></iframe>\n",
       "        "
      ],
      "text/plain": [
       "<IPython.lib.display.IFrame at 0x7f5af633bd70>"
      ]
     },
     "metadata": {},
     "output_type": "display_data"
    },
    {
     "name": "stdout",
     "output_type": "stream",
     "text": [
      "Marcing Tets:\n"
     ]
    },
    {
     "data": {
      "application/vnd.jupyter.widget-view+json": {
       "model_id": "b2728639e0d44202874f5006ee0d9b4b",
       "version_major": 2,
       "version_minor": 0
      },
      "text/plain": [
       "Renderer(camera=PerspectiveCamera(children=(DirectionalLight(color='white', intensity=0.6, position=(5.0120944…"
      ]
     },
     "metadata": {},
     "output_type": "display_data"
    },
    {
     "name": "stdout",
     "output_type": "stream",
     "text": [
      "Plot saved to file ./plots/4.html.\n"
     ]
    },
    {
     "data": {
      "text/html": [
       "\n",
       "        <iframe\n",
       "            width=\"700\"\n",
       "            height=\"600\"\n",
       "            src=\"./plots/4.html\"\n",
       "            frameborder=\"0\"\n",
       "            allowfullscreen\n",
       "            \n",
       "        ></iframe>\n",
       "        "
      ],
      "text/plain": [
       "<IPython.lib.display.IFrame at 0x7f5af633b770>"
      ]
     },
     "metadata": {},
     "output_type": "display_data"
    },
    {
     "name": "stdout",
     "output_type": "stream",
     "text": [
      "Debug Plottings:\n"
     ]
    },
    {
     "data": {
      "application/vnd.jupyter.widget-view+json": {
       "model_id": "0ec963d9aaee42988398b80619a3a4ec",
       "version_major": 2,
       "version_minor": 0
      },
      "text/plain": [
       "Renderer(camera=PerspectiveCamera(children=(DirectionalLight(color='white', intensity=0.6, position=(5.0120944…"
      ]
     },
     "metadata": {},
     "output_type": "display_data"
    },
    {
     "data": {
      "application/vnd.jupyter.widget-view+json": {
       "model_id": "46205177990344b292458967e2d153a4",
       "version_major": 2,
       "version_minor": 0
      },
      "text/plain": [
       "Renderer(camera=PerspectiveCamera(children=(DirectionalLight(color='white', intensity=0.6, position=(5.0120944…"
      ]
     },
     "metadata": {},
     "output_type": "display_data"
    }
   ],
   "source": [
    "class WendlandMLSWithContraints:\n",
    "    def __init__(self, constraints, targets, poly_func=None, find_neighbors_func=None, spatial_indexing=None):\n",
    "        self.constraints = constraints\n",
    "        self.targets = targets\n",
    "        self.find_neighbors_func = find_neighbors_func\n",
    "        self.spatial_indexing = spatial_indexing\n",
    "        self.poly_func = poly_func\n",
    "        self.LARGE_VALUE = 9999\n",
    "\n",
    "    def wendland(self, r, h):\n",
    "        return pow((1-r/h), 4)*((4*r/h)+1)\n",
    "        \n",
    "    def interpolate_points_values(self, x, poly_degree, wendland_radius):\n",
    "        constraints, targets, find_neighbors_func, spatial_indexing, poly_func\\\n",
    "            = self.constraints, self.targets, self.find_neighbors_func, self.spatial_indexing, self.poly_func\n",
    "        wendland, LARGE_VALUE = self.wendland, self.LARGE_VALUE\n",
    "        # print(constraints)\n",
    "        coef_num = pow(polyDegree+1, 3)\n",
    "        points_within_wendland_radius = np.zeros(x.shape[0], dtype=bool)\n",
    "        fx = np.zeros(x.shape[0])\n",
    "        for i in range(x.shape[0]):\n",
    "            xi = x[i, :]\n",
    "            if spatial_indexing==None:\n",
    "                neighbors_indices, neighbors_norms = find_neighbors_func(xi, constraints, wendland_radius)\n",
    "            else:\n",
    "                neighbors_indices, neighbors_norms = spatial_indexing.find_neighbors(xi, wendland_radius)\n",
    "                \n",
    "            if neighbors_indices.shape[0]<2*coef_num:\n",
    "                points_within_wendland_radius[i] = False\n",
    "                fx[i] = LARGE_VALUE\n",
    "            else:\n",
    "                points_within_wendland_radius[i] = True\n",
    "                bx = np.zeros((neighbors_indices.shape[0], coef_num))\n",
    "                # d_target = np.zeros(neighbors_indices.shape[0])\n",
    "                d_target = targets[neighbors_indices]\n",
    "                # weight = np.zeros(neighbors_indices.shape[0])\n",
    "                weight = wendland(neighbors_norms, wendland_radius)\n",
    "                bx = poly_func(constraints[neighbors_indices], poly_degree)\n",
    "                \n",
    "                # for j in range(neighbors_indices.shape[0]):\n",
    "                    # neighbor_point_index = neighbors_indices[j]\n",
    "                    # neighbor_point_norm = neighbors_norms[j]\n",
    "                    # ci = constraints[neighbor_point_index]\n",
    "                    # weight[j] = wendland(neighbor_point_norm, wendland_radius)\n",
    "                    # d_target[j] = targets[neighbor_point_index]\n",
    "                    # Calculate polynomial's terms\n",
    "                    # bci = poly_func(ci, poly_degree)\n",
    "                    # bx[j, :] = bci\n",
    "                    \n",
    "                # print(i, bx, d_target, weight)\n",
    "                bx_weighted = bx*np.sqrt(weight[:,np.newaxis])\n",
    "                d_target_weighted = d_target*np.sqrt(weight)\n",
    "                \n",
    "                # bx_weighted = bx\n",
    "                # d_target_weighted = d_target\n",
    "                ax, _, _, _ = np.linalg.lstsq(bx_weighted, d_target_weighted, rcond=None)\n",
    "                fxi = np.dot(poly_func(xi, poly_degree), ax)\n",
    "                # ax, _, _, _ = np.linalg.lstsq(bx, d_target, rcond=None)\n",
    "                # fxi = np.dot(poly_func(xi, poly_degree), ax)\n",
    "                fx[i] = fxi\n",
    "                # ax2, _, _, _ = np.linalg.lstsq(bx, d_target, rcond=None)\n",
    "                # fxi2 = np.dot(poly_func(xi, poly_degree), ax2)\n",
    "                # print(fxi, fxi2, fxi2-fxi)\n",
    "        return fx, points_within_wendland_radius\n",
    "\n",
    "\n",
    "\n",
    "# closest_points\n",
    "def find_closest_points(point, points, h):\n",
    "    norms = np.linalg.norm(points-point, axis=1)\n",
    "    closest_points_indices = np.argwhere(norms<h)\n",
    "    closest_points_indices = closest_points_indices.reshape(closest_points_indices.shape[0])\n",
    "    return closest_points_indices, norms[closest_points_indices]\n",
    "\n",
    "def plot_fx(x, fx):\n",
    "    # Plotting\n",
    "    ind = np.zeros_like(x)\n",
    "    ind[fx >= 0, 0] = 1 # Outside, Red\n",
    "    ind[fx < 0, 1] = 1 # Inside, Green\n",
    "    # print(ind)\n",
    "    p = mp.plot(x, c=ind, shading={\"point_size\": 3,\"width\": 800, \"height\": 800})\n",
    "    save_and_display_plot(p)\n",
    "\n",
    "wendlandRadius = 30\n",
    "polyDegree = 2\n",
    "\n",
    "mlsWithContraints = WendlandMLSWithContraints(c, d, calc_3d_polynomial_each_term_stacked, find_closest_points)\n",
    "fx, in_wend = mlsWithContraints.interpolate_points_values(x, polyDegree, wendlandRadius)\n",
    "\n",
    "# Plotting\n",
    "print(\"Fx gird:\")\n",
    "plot_fx(x, fx)\n",
    "\n",
    "# Marcing tet to extract surface\n",
    "print(\"Marcing Tets:\")\n",
    "sv, sf, _, _ = igl.marching_tets(x, T, fx, 0)\n",
    "p = mp.plot(sv, sf, shading={\"wireframe\": True})\n",
    "save_and_display_plot(p)\n",
    "\n",
    "# print(\"Marcing Filtered:\")\n",
    "# p = mp.plot(sv, get_main_component(sf), shading={\"wireframe\": True})\n",
    "\n",
    "# Debug plotting\n",
    "print(\"Debug Plottings:\")\n",
    "ind = np.zeros_like(x)\n",
    "ind[(in_wend==True) & (fx > 0), 0] = 1 # In wendlandRadius, counted outnside, Red\n",
    "ind[(in_wend==True) & (fx <= 0), 1] = 1 # In wendlandRadius, counted inside, Green\n",
    "ind[(in_wend==False) & (fx <= 0), 2] = 1 # Outside wendlandRadius, but counted inside, Blue\n",
    "p = mp.plot(x, c=ind, shading={\"point_size\": 3,\"width\": 800, \"height\": 800})\n",
    "\n",
    "fx_in_wend = np.zeros(x.shape[0])\n",
    "fx_in_wend[in_wend] = -1\n",
    "fx_in_wend[in_wend==False] = 1\n",
    "# Marcing tet to extract surface\n",
    "sv, sf, _, _ = igl.marching_tets(x, T, fx_in_wend, 0)\n",
    "p = mp.plot(sv, sf, shading={\"wireframe\": True})\n"
   ]
  },
  {
   "cell_type": "markdown",
   "metadata": {},
   "source": [
    "\n",
    "\n",
    "\n",
    "\n",
    "\n",
    "\n",
    "\n",
    "\n",
    "\n",
    "\n",
    "\n",
    "\n",
    "\n",
    "\n",
    "\n",
    "\n",
    "\n",
    "\n",
    "\n",
    "\n",
    "\n",
    "\n",
    "\n",
    "\n",
    "\n",
    "\n",
    "\n",
    "\n",
    "\n",
    "\n",
    "\n",
    "\n",
    "\n",
    "\n",
    "\n",
    "\n",
    "\n",
    "\n",
    "\n",
    "\n",
    "\n",
    "\n",
    "\n",
    "\n",
    "\n",
    "\n",
    "\n",
    "\n",
    "\n",
    "\n",
    "\n",
    "\n",
    "\n",
    "\n",
    "\n",
    "\n",
    "\n",
    "\n",
    "\n",
    "\n",
    "\n",
    "\n",
    "\n",
    "\n",
    "\n",
    "\n",
    "\n",
    "\n",
    "\n",
    "\n",
    "\n",
    "\n",
    "\n",
    "\n",
    "\n",
    "\n",
    "\n",
    "\n",
    "\n",
    "\n",
    "\n",
    "\n",
    "\n",
    "\n",
    "\n",
    "\n",
    "\n",
    "\n",
    "\n",
    "\n",
    "\n",
    "\n",
    "\n",
    "\n",
    "\n",
    "\n",
    "\n",
    "\n",
    "\n",
    "\n",
    "\n",
    "\n",
    "\n",
    "\n",
    "\n",
    "\n",
    "\n",
    "\n",
    "\n",
    "\n",
    "\n",
    "\n",
    "# Implementing a spatial index to accelerate neighbor calculations"
   ]
  },
  {
   "cell_type": "code",
   "execution_count": 13,
   "metadata": {},
   "outputs": [],
   "source": [
    "def save_spatial_index(points, saved_spatial_indices, bbox_min, unit_box_size, filename):\n",
    "    with open(filename, 'w') as f:\n",
    "        # Save grid size\n",
    "        grid_shape = saved_spatial_indices.shape\n",
    "        f.write(f\"{grid_shape[0]} {grid_shape[1]} {grid_shape[2]}\\n\")\n",
    "        # Save bbox_min\n",
    "        f.write(f\"{bbox_min[0]} {bbox_min[1]} {bbox_min[2]}\\n\")\n",
    "        # Save unit_box_size (assume cubic grid, so just one value)\n",
    "        f.write(f\"{unit_box_size}\\n\")\n",
    "        # Save number of points\n",
    "        f.write(f\"{points.shape[0]}\\n\")\n",
    "        # Save all points\n",
    "        for pt in points:\n",
    "            f.write(f\"{pt[0]} {pt[1]} {pt[2]}\\n\")\n",
    "        # Save the grid: for each cell, write the indices (space-separated)\n",
    "        for x in range(grid_shape[0]):\n",
    "            for y in range(grid_shape[1]):\n",
    "                for z in range(grid_shape[2]):\n",
    "                    indices = saved_spatial_indices[x, y, z]\n",
    "                    f.write(\" \".join(map(str, indices)) + \"\\n\")\n",
    "\n",
    "class SpatialIndexing:\n",
    "    def __init__(self, points, resolution):\n",
    "        bbox_min, bbox_max = calc_bounding_box(points)\n",
    "        # print(bbox_min, bbox_max)\n",
    "        # Calculate resolution for each axis.\n",
    "        bbox_size = bbox_max-bbox_min\n",
    "        largest_size = np.amax(bbox_size)\n",
    "        unit_size = largest_size/resolution\n",
    "        grid_size = (np.ceil(bbox_size/unit_size)).astype(int)\n",
    "\n",
    "        self.grid_size = grid_size\n",
    "        self.bbox_min = bbox_min\n",
    "        self.bbox_max = bbox_max\n",
    "        self.box_size = bbox_max-bbox_min\n",
    "        self.unit_box_size = self.box_size/grid_size\n",
    "        \n",
    "        # print(grid_size, self.saved_spatial_indices.shape)\n",
    "        # self.saved_spatial_indices = [[] for i in range(grid_size[0]*grid_size[1]*grid_size[2])]\n",
    "        self._save_points(points)\n",
    "        \n",
    "    def calc_spatial_index_3d(self, p):\n",
    "        x_size, y_size, z_size = self.grid_size\n",
    "        p_in_box = p-self.bbox_min\n",
    "        index = np.minimum(np.floor(p_in_box/self.unit_box_size), self.grid_size-1)\n",
    "        if index[0]>=x_size:\n",
    "            index[0]=x_size-1\n",
    "        if index[1]>=y_size:\n",
    "            index[1]=y_size-1\n",
    "        if index[2]>=z_size:\n",
    "            index[2]=z_size-1\n",
    "        # print(self.grid_size, index)\n",
    "        return index.astype(int)\n",
    "    \n",
    "\n",
    "    def _save_points(self, points):\n",
    "        self.points = points\n",
    "        grid_size = self.grid_size\n",
    "        saved_spatial_indices_list = [[[[] for i in range(grid_size[2])] for i in range(grid_size[1])] for i in range(grid_size[0])]\n",
    "        for i in range(points.shape[0]):\n",
    "            p = points[i, :]\n",
    "            spatial_index = self.calc_spatial_index_3d(p)\n",
    "            saved_spatial_indices_list[spatial_index[0]][spatial_index[1]][spatial_index[2]].append(i)\n",
    "        self.saved_spatial_indices = np.array(saved_spatial_indices_list, dtype=list)\n",
    "        save_spatial_index(points, self.saved_spatial_indices, self.bbox_min, self.unit_box_size[0], \"spatial_index.txt\")\n",
    "        # print(self.saved_spatial_indices.shape)\n",
    "        \n",
    "    def get_box_neighbors_indices(self, p, r):\n",
    "        p_bbox_min = np.maximum(p-r, self.bbox_min)\n",
    "        p_bbox_max = np.minimum(p+r, self.bbox_max)\n",
    "        p_bbox_min_s_index = self.calc_spatial_index_3d(p_bbox_min)\n",
    "        p_bbox_max_s_index = self.calc_spatial_index_3d(p_bbox_max)\n",
    " \n",
    "        points_array = self.saved_spatial_indices[p_bbox_min_s_index[0]:p_bbox_max_s_index[0]+1, p_bbox_min_s_index[1]:p_bbox_max_s_index[1]+1, p_bbox_min_s_index[2]:p_bbox_max_s_index[2]+1]\n",
    "\n",
    "        result = []\n",
    "        for l in points_array.flatten():\n",
    "            result+=l\n",
    "        return np.array(result, dtype=int)\n",
    "\n",
    "    # Don't like the name, but alias it to find_neighbors\n",
    "    def find_closest_points(self, point, h):\n",
    "        return self.find_neighbors(point, h)\n",
    "        \n",
    "    def find_neighbors(self, point, h):\n",
    "        box_neighbors_indices = self.get_box_neighbors_indices(point, h)\n",
    "        points = self.points[box_neighbors_indices, :]\n",
    "        norms = np.linalg.norm(points-point, axis=1)\n",
    "        neighbors_points_indices = np.argwhere(norms<h)\n",
    "        neighbors_points_indices = neighbors_points_indices.reshape(neighbors_points_indices.shape[0])\n",
    "        \n",
    "        return box_neighbors_indices[neighbors_points_indices], norms[neighbors_points_indices]\n",
    "        \n",
    "    def find_closest_point_helper(self, point, excluded_indices, radius_level=0, reached_bottom=False):\n",
    "        point_3d_index = self.calc_spatial_index_3d(point)\n",
    "        point_bbox_min = np.maximum(point_3d_index-radius_level, 0)\n",
    "        point_bbox_max = np.minimum(point_3d_index+radius_level, np.array(self.grid_size)-1)\n",
    "        \n",
    "        closest_norm = None\n",
    "        closest_point = None\n",
    "\n",
    "        \n",
    "        # Loop over the range of x, y, z\n",
    "        for x in range(point_bbox_min[0], point_bbox_max[0] + 1):\n",
    "            for y in range(point_bbox_min[1], point_bbox_max[1] + 1):\n",
    "                for z in range(point_bbox_min[2], point_bbox_max[2] + 1):\n",
    "                     # Check if the current cell is on the surface\n",
    "                    if (x == point_bbox_min[0] or x == point_bbox_max[0] or\n",
    "                        y == point_bbox_min[1] or y == point_bbox_max[1] or\n",
    "                        z == point_bbox_min[2] or z == point_bbox_max[2]):\n",
    "                        points_indices = [x for x in self.saved_spatial_indices[x, y, z] if x not in excluded_indices]\n",
    "                        points = self.points[points_indices, :]\n",
    "                        if len(points)>0:\n",
    "                            norms = np.linalg.norm(points-point, axis=1)\n",
    "                            closest_point_index = np.argmin(norms)\n",
    "                            closest_point_norm = norms[closest_point_index]\n",
    "                            if closest_norm==None or closest_point_norm<closest_norm:\n",
    "                                closest_norm = closest_point_norm\n",
    "                                closest_point = points[closest_point_index]\n",
    "        \n",
    "        if closest_norm==None:\n",
    "            return self.find_closest_point_helper(point, excluded_indices, radius_level+1)\n",
    "        elif reached_bottom:\n",
    "            return closest_point, closest_norm\n",
    "        else:\n",
    "            next_step_value = self.find_closest_point_helper(point, excluded_indices, radius_level+1, True)\n",
    "            # There is a possibility that the closest point lied in next step, if the point close to boundary in its cell.\n",
    "            if next_step_value[1]<closest_norm:\n",
    "                return next_step_value[0], next_step_value[1]\n",
    "            else:\n",
    "                return closest_point, closest_norm\n",
    "        \n",
    "    def find_closest_point(self, point, excluded_indices=[]):\n",
    "        return self.find_closest_point_helper(point, excluded_indices)\n",
    "        \n",
    "spatialIndexing = SpatialIndexing(c, 10)\n",
    "\n"
   ]
  },
  {
   "cell_type": "markdown",
   "metadata": {},
   "source": [
    "# SML/MaPLe Bindings"
   ]
  },
  {
   "cell_type": "code",
   "execution_count": 14,
   "metadata": {},
   "outputs": [],
   "source": [
    "import subprocess\n",
    "\n",
    "# Run the executable file of `make closest-points`.\n",
    "def find_closest_point_sml(p, points, sml_exec_path='./closest-point'):\n",
    "    # Prepare the input string (query point + all points)\n",
    "    input_str = ' '.join(map(str, p)) + '\\n'\n",
    "    for pt in points:\n",
    "        input_str += ' '.join(map(str, pt)) + '\\n'\n",
    "\n",
    "    h = 1e10\n",
    "    result = subprocess.run(\n",
    "        [sml_exec_path, str(h)],\n",
    "        input=input_str,\n",
    "        stdout=subprocess.PIPE,\n",
    "        text=True\n",
    "    )\n",
    "    lines = result.stdout.strip().split('\\n')\n",
    "    if len(lines) < 2 or not lines[0].strip():\n",
    "        raise ValueError(\"No points found by SML\")\n",
    "    indices = list(map(int, lines[0].split()))\n",
    "    norms = list(map(float, lines[1].split()))\n",
    "    min_idx = np.argmin(norms)\n",
    "    closest_index = indices[min_idx]\n",
    "    closest_distance = norms[min_idx]\n",
    "    closest_point = points[closest_index]\n",
    "    return closest_point, closest_distance\n",
    "\n",
    "def find_closest_point_sml_parallel(p, points, sml_exec_path='./closest-point-parallel', procs=4):\n",
    "    # Prepare the input string (query point + all points)\n",
    "    input_str = ' '.join(map(str, p)) + '\\n'\n",
    "    for pt in points:\n",
    "        input_str += ' '.join(map(str, pt)) + '\\n'\n",
    "\n",
    "    h = 1e10\n",
    "    result = subprocess.run(\n",
    "        [sml_exec_path, '@mpl', 'procs', str(procs), '--', str(h)],\n",
    "        input=input_str,\n",
    "        stdout=subprocess.PIPE,\n",
    "        text=True\n",
    "    )\n",
    "    lines = result.stdout.strip().split('\\n')\n",
    "    if len(lines) < 2 or not lines[0].strip():\n",
    "        raise ValueError(\"No points found by SML (parallel)\")\n",
    "    indices = list(map(int, lines[0].split()))\n",
    "    norms = list(map(float, lines[1].split()))\n",
    "    min_idx = np.argmin(norms)\n",
    "    closest_index = indices[min_idx]\n",
    "    closest_distance = norms[min_idx]\n",
    "    closest_point = points[closest_index]\n",
    "    return closest_point, closest_distance\n",
    "\n",
    "\n",
    "def find_closest_point_spatial_sml(query_point, sml_exec_path='./closest-point-spatial'):\n",
    "    \"\"\"\n",
    "    query_point: a numpy array or list of 3 floats\n",
    "    sml_exec_path: path to the compiled SML executable\n",
    "    Returns: (closest_point as np.array)\n",
    "    \"\"\"\n",
    "    # Prepare the input string (query point as \"x y z\\n\")\n",
    "    input_str = ' '.join(map(str, query_point)) + '\\n'\n",
    "    # Call the SML executable\n",
    "    result = subprocess.run(\n",
    "        [sml_exec_path],\n",
    "        input=input_str,\n",
    "        stdout=subprocess.PIPE,\n",
    "        stderr=subprocess.PIPE,\n",
    "        text=True\n",
    "    )\n",
    "    if result.returncode != 0:\n",
    "        raise RuntimeError(f\"SML error: {result.stderr}\")\n",
    "    # Parse the output\n",
    "    output = result.stdout.strip()\n",
    "    if not output:\n",
    "        raise ValueError(\"No output from SML spatial index\")\n",
    "    coords = list(map(float, output.split()))\n",
    "    if len(coords) != 3:\n",
    "        raise ValueError(f\"Unexpected output: {output}\")\n",
    "    return np.array(coords)\n",
    "\n",
    "\n",
    "def find_closest_point_spatial_sml_parallel(query_point, sml_exec_path='./closest-point-spatial-parallel', procs=4):\n",
    "    \"\"\"\n",
    "    query_point: a numpy array or list of 3 floats\n",
    "    sml_exec_path: path to the compiled SML executable\n",
    "    Returns: (closest_point as np.array)\n",
    "    \"\"\"\n",
    "    # Prepare the input string (query point as \"x y z\\n\")\n",
    "    input_str = ' '.join(map(str, query_point)) + '\\n'\n",
    "    # Call the SML executable\n",
    "    result = subprocess.run(\n",
    "        [sml_exec_path, '@mpl', 'procs', str(procs) , '--'],\n",
    "        input=input_str,\n",
    "        stdout=subprocess.PIPE,\n",
    "        stderr=subprocess.PIPE,\n",
    "        text=True\n",
    "    )\n",
    "    if result.returncode != 0:\n",
    "        raise RuntimeError(f\"SML error: {result.stderr}\")\n",
    "    # Parse the output\n",
    "    output = result.stdout.strip()\n",
    "    if not output:\n",
    "        raise ValueError(\"No output from SML spatial index\")\n",
    "    coords = list(map(float, output.split()))\n",
    "    if len(coords) != 3:\n",
    "        raise ValueError(f\"Unexpected output: {output}\")\n",
    "    return np.array(coords)\n"
   ]
  },
  {
   "cell_type": "markdown",
   "metadata": {},
   "source": [
    "# Testing Closest Points"
   ]
  },
  {
   "cell_type": "code",
   "execution_count": 15,
   "metadata": {},
   "outputs": [
    {
     "name": "stdout",
     "output_type": "stream",
     "text": [
      "(152837, 3)\n"
     ]
    },
    {
     "name": "stderr",
     "output_type": "stream",
     "text": [
      "Warning: readOBJ() ignored non-comment line 4:\n",
      "  o Plane.013\n",
      "Warning: readOBJ() ignored non-comment line 1420:\n",
      "  o Circle.038\n",
      "Warning: readOBJ() ignored non-comment line 21901:\n",
      "  o Circle.037\n",
      "Warning: readOBJ() ignored non-comment line 42374:\n",
      "  o Circle.034\n",
      "Warning: readOBJ() ignored non-comment line 42441:\n",
      "  o Circle.031\n",
      "Warning: readOBJ() ignored non-comment line 42517:\n",
      "  o Circle.016\n",
      "Warning: readOBJ() ignored non-comment line 42751:\n",
      "  o Cube.003\n",
      "Warning: readOBJ() ignored non-comment line 43173:\n",
      "  o Circle.025\n",
      "Warning: readOBJ() ignored non-comment line 43220:\n",
      "  o Circle.006\n",
      "Warning: readOBJ() ignored non-comment line 43608:\n",
      "  o Circle.012\n",
      "Warning: readOBJ() ignored non-comment line 44636:\n",
      "  o Circle.003\n",
      "Warning: readOBJ() ignored non-comment line 45557:\n",
      "  o Circle.002\n",
      "Warning: readOBJ() ignored non-comment line 48472:\n",
      "  o Circle.000\n",
      "Warning: readOBJ() ignored non-comment line 135078:\n",
      "  o Cylinder.000\n",
      "Warning: readOBJ() ignored non-comment line 136573:\n",
      "  o Circle.018\n",
      "Warning: readOBJ() ignored non-comment line 140628:\n",
      "  o Circle.061\n",
      "Warning: readOBJ() ignored non-comment line 142978:\n",
      "  o Cube.010\n",
      "Warning: readOBJ() ignored non-comment line 143275:\n",
      "  o Cube.009\n",
      "Warning: readOBJ() ignored non-comment line 144349:\n",
      "  o Cube.007\n",
      "Warning: readOBJ() ignored non-comment line 150717:\n",
      "  o Circle.041\n",
      "Warning: readOBJ() ignored non-comment line 152909:\n",
      "  o Cylinder.006\n",
      "Warning: readOBJ() ignored non-comment line 155130:\n",
      "  o Circle.060\n",
      "Warning: readOBJ() ignored non-comment line 162303:\n",
      "  o Circle.056\n",
      "Warning: readOBJ() ignored non-comment line 163150:\n",
      "  o Cube.004\n",
      "Warning: readOBJ() ignored non-comment line 174849:\n",
      "  o Cylinder.009\n",
      "Warning: readOBJ() ignored non-comment line 179796:\n",
      "  o Plane.011\n",
      "Warning: readOBJ() ignored non-comment line 181118:\n",
      "  o Plane.010\n",
      "Warning: readOBJ() ignored non-comment line 181299:\n",
      "  o Cube\n",
      "Warning: readOBJ() ignored non-comment line 181336:\n",
      "  o Cylinder.003\n",
      "Warning: readOBJ() ignored non-comment line 182829:\n",
      "  o Plane.007\n",
      "Warning: readOBJ() ignored non-comment line 184703:\n",
      "  o Plane.002\n",
      "Warning: readOBJ() ignored non-comment line 186610:\n",
      "  o Plane.001\n",
      "Warning: readOBJ() ignored non-comment line 188562:\n",
      "  o Cylinder.002\n",
      "Warning: readOBJ() ignored non-comment line 190316:\n",
      "  o Plane.003\n",
      "Warning: readOBJ() ignored non-comment line 191732:\n",
      "  o Circle.040\n",
      "Warning: readOBJ() ignored non-comment line 192121:\n",
      "  o Plane.009\n",
      "Warning: readOBJ() ignored non-comment line 195401:\n",
      "  o Plane.004\n",
      "Warning: readOBJ() ignored non-comment line 195696:\n",
      "  o Circle.051\n",
      "Warning: readOBJ() ignored non-comment line 216176:\n",
      "  o Circle.024\n",
      "Warning: readOBJ() ignored non-comment line 220201:\n",
      "  o Plane\n",
      "Warning: readOBJ() ignored non-comment line 220560:\n",
      "  o Circle.036\n",
      "Warning: readOBJ() ignored non-comment line 222512:\n",
      "  o Circle.035\n",
      "Warning: readOBJ() ignored non-comment line 223327:\n",
      "  o Circle.033\n",
      "Warning: readOBJ() ignored non-comment line 223508:\n",
      "  o Circle.030\n",
      "Warning: readOBJ() ignored non-comment line 223744:\n",
      "  o Circle.027\n",
      "Warning: readOBJ() ignored non-comment line 298003:\n",
      "  o Circle.026\n",
      "Warning: readOBJ() ignored non-comment line 379127:\n",
      "  o Circle.020\n",
      "Warning: readOBJ() ignored non-comment line 379402:\n",
      "  o Circle.010\n",
      "Warning: readOBJ() ignored non-comment line 380376:\n",
      "  o Circle.009\n",
      "Warning: readOBJ() ignored non-comment line 382541:\n",
      "  o Circle.001\n",
      "Warning: readOBJ() ignored non-comment line 466508:\n",
      "  o Cube.006\n",
      "Warning: readOBJ() ignored non-comment line 467082:\n",
      "  o Circle.050\n",
      "Warning: readOBJ() ignored non-comment line 487555:\n",
      "  o Circle.048\n",
      "Warning: readOBJ() ignored non-comment line 487731:\n",
      "  o Plane.005\n",
      "Warning: readOBJ() ignored non-comment line 492244:\n",
      "  o Circle.007\n",
      "Warning: readOBJ() ignored non-comment line 492291:\n",
      "  o Circle.017\n",
      "Warning: readOBJ() ignored non-comment line 493616:\n",
      "  o Circle.004\n",
      "Warning: readOBJ() ignored non-comment line 493837:\n",
      "  o Circle.005\n",
      "Warning: readOBJ() ignored non-comment line 496140:\n",
      "  o Circle.008\n",
      "Warning: readOBJ() ignored non-comment line 501386:\n",
      "  o Circle.011\n",
      "Warning: readOBJ() ignored non-comment line 502712:\n",
      "  o Circle.013\n",
      "Warning: readOBJ() ignored non-comment line 502746:\n",
      "  o Circle.014\n",
      "Warning: readOBJ() ignored non-comment line 502867:\n",
      "  o Plane.015\n"
     ]
    }
   ],
   "source": [
    "# Testing start by defining a point\n",
    "pi, ni = read_mesh_as_point_cloud(\"data/car.obj\", 10)\n",
    "print(str(pi.shape))"
   ]
  },
  {
   "cell_type": "code",
   "execution_count": 16,
   "metadata": {},
   "outputs": [
    {
     "name": "stdout",
     "output_type": "stream",
     "text": [
      "Results in different implementations of point:( -11.18728482 -25.91066198 -5.58257382 )\n",
      "\"find_closest_points\":\n",
      "(3,) (3,)\n",
      "[ 23 389 390] [390  23 389]\n",
      "[12.80069945 11.38976057 12.07831045] [12.07831045 12.80069945 11.38976057]\n",
      "\"find_closest_point\":\n",
      "SML: (array([-0.1917981,  0.0144932, -0.3559509]), 28.6414382751) Time: 6.225057601928711 seconds\n",
      "SML Parallel: (array([-0.1917981,  0.0144932, -0.3559509]), 28.6414382751) Time: 8.724385023117065 seconds\n",
      "SML Spatial Indexing: [-0.1917981  0.0144932 -0.3559509] Time: 1.907541275024414 seconds\n",
      "SML Spatial Indexing Parallel: [-0.1917981  0.0144932 -0.3559509] Time: 2.3712167739868164 seconds\n"
     ]
    }
   ],
   "source": [
    "# c, d = get_points_constraints(pi, ni, find_closest_point_sml_parallel, None, 0.01)\n",
    "p = np.array([-11.18728482, -25.91066198, -5.58257382])\n",
    "\n",
    "print('Results in different implementations of point:(', *p, ')')\n",
    "print('\"find_closest_points\":')\n",
    "cps, n = find_closest_points(p, c, 13)\n",
    "cps2, n2 = spatialIndexing.find_closest_points(p, 13)\n",
    "print(n.shape, n2.shape)\n",
    "print(cps[:3], cps2[:3])\n",
    "print(n[:3], n2[:3])\n",
    "# print(n, n2)\n",
    "import time\n",
    "\n",
    "print('\"find_closest_point\":')\n",
    "# print(str(c.shape))\n",
    "\n",
    "# Python implementation\n",
    "# start = time.time()\n",
    "# cp = find_closest_point(p, pi)\n",
    "# end = time.time()\n",
    "# print(\"Python:\", cp, \"Time:\", end - start, \"seconds\")\n",
    "\n",
    "si = SpatialIndexing(pi, 20)\n",
    "# Spatial Indexing implementation\n",
    "# start = time.time()\n",
    "# si.find_closest_point(p)\n",
    "# end = time.time()\n",
    "# print(\"Spatial:\", cp, \"Time:\", end - start, \"seconds\")\n",
    "\n",
    "# SML implementation\n",
    "start = time.time()\n",
    "cp3 = find_closest_point_sml(p, pi)\n",
    "end = time.time()\n",
    "print(\"SML:\", cp3, \"Time:\", end - start, \"seconds\")\n",
    "\n",
    "# SML Parallel implementation\n",
    "start = time.time()\n",
    "cp4 = find_closest_point_sml_parallel(p, pi, procs=4)\n",
    "end = time.time()\n",
    "print(\"SML Parallel:\", cp4, \"Time:\", end - start, \"seconds\")\n",
    "\n",
    "# SML Spatial Indexing implementation\n",
    "start = time.time()\n",
    "cp5 = find_closest_point_spatial_sml(p)\n",
    "end = time.time()\n",
    "print(\"SML Spatial Indexing:\", cp5, \"Time:\", end - start, \"seconds\")\n",
    "\n",
    "# SML Spatial Indexing Parallel implementation\n",
    "start = time.time()\n",
    "cp6 = find_closest_point_spatial_sml_parallel(p, procs=4)\n",
    "end = time.time()\n",
    "print(\"SML Spatial Indexing Parallel:\", cp6, \"Time:\", end - start, \"seconds\")\n",
    "\n"
   ]
  },
  {
   "cell_type": "markdown",
   "metadata": {},
   "source": [
    "# Benchmark"
   ]
  },
  {
   "cell_type": "code",
   "execution_count": 19,
   "metadata": {},
   "outputs": [],
   "source": [
    "import matplotlib.pyplot as plt\n",
    "import numpy as np\n",
    "import re\n",
    "\n",
    "def plot_closest_point_spatial_sml_parallel_benchmark(num_queries=5000, num_repeat=4, procs=16, sml_exec_path='./closest-point-spatial-parallel-bench'):\n",
    "    # Build the command\n",
    "    cmd = [\n",
    "        sml_exec_path,\n",
    "        '@mpl', 'procs', str(procs), '--',\n",
    "        'queries', str(num_queries),\n",
    "        'repeat', str(num_repeat),\n",
    "        'procs', str(procs)\n",
    "    ]\n",
    "    # Run the command\n",
    "    result = subprocess.run(cmd, stdout=subprocess.PIPE, stderr=subprocess.PIPE, text=True)\n",
    "    if result.returncode != 0:\n",
    "        print(\"Error running SML benchmark:\", result.stderr)\n",
    "        return []\n",
    "    # Parse the output\n",
    "    output = result.stdout\n",
    "    pattern = r\"Cores: (\\d+) Avg: ([\\d\\.]+)s\"\n",
    "    matches = re.findall(pattern, output)\n",
    "    results = []\n",
    "    for core, avg in matches:\n",
    "        # print(f\"Cores: {core} Avg: {avg}s\")\n",
    "        results.append((int(core), float(avg)))\n",
    "    return results\n",
    "\n",
    "# Plot the results speed up wrt to only 1 core\n",
    "def plot_results(results):\n",
    "    cores, times = zip(*results)\n",
    "    plt.figure(figsize=(10, 6))\n",
    "    plt.plot(cores, times, marker='o', linestyle='-', color='b')\n",
    "    plt.xlabel('Number of Cores')\n",
    "    plt.ylabel('Average Time (seconds)')\n",
    "    plt.title('Closest Point Spatial SML Parallel Benchmark')\n",
    "    plt.show()"
   ]
  },
  {
   "cell_type": "code",
   "execution_count": 20,
   "metadata": {},
   "outputs": [
    {
     "name": "stdout",
     "output_type": "stream",
     "text": [
      "Cores: 1 Avg: 2.4410s\n",
      "Cores: 2 Avg: 3.1088s\n",
      "Cores: 3 Avg: 3.1769s\n",
      "Cores: 4 Avg: 3.1306s\n",
      "Cores: 5 Avg: 1.4771s\n",
      "Cores: 6 Avg: 1.0843s\n",
      "Cores: 7 Avg: 1.3308s\n",
      "Cores: 8 Avg: 1.0794s\n",
      "Cores: 9 Avg: 0.9172s\n",
      "Cores: 10 Avg: 0.6415s\n",
      "Cores: 11 Avg: 0.5870s\n",
      "Cores: 12 Avg: 0.5165s\n",
      "Cores: 13 Avg: 0.6050s\n",
      "Cores: 14 Avg: 0.6206s\n",
      "Cores: 15 Avg: 0.5578s\n",
      "Cores: 16 Avg: 0.5417s\n"
     ]
    },
    {
     "data": {
      "image/png": "[encoded data removed]",
      "text/plain": [
       "<Figure size 1000x600 with 1 Axes>"
      ]
     },
     "metadata": {},
     "output_type": "display_data"
    }
   ],
   "source": [
    "results = plot_closest_point_spatial_sml_parallel_benchmark()\n",
    "plot_results(results)"
   ]
  }
 ],
 "metadata": {
  "kernelspec": {
   "display_name": ".venv",
   "language": "python",
   "name": "python3"
  },
  "language_info": {
   "codemirror_mode": {
    "name": "ipython",
    "version": 3
   },
   "file_extension": ".py",
   "mimetype": "text/x-python",
   "name": "python",
   "nbconvert_exporter": "python",
   "pygments_lexer": "ipython3",
   "version": "3.12.7"
  }
 },
 "nbformat": 4,
 "nbformat_minor": 4
}
